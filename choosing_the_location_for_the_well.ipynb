{
 "cells": [
  {
   "cell_type": "markdown",
   "metadata": {},
   "source": [
    "# Выбор локации для скважины"
   ]
  },
  {
   "cell_type": "markdown",
   "metadata": {},
   "source": [
    "Допустим, вы работаете в добывающей компании «ГлавРосГосНефть». Нужно решить, где бурить новую скважину.\n",
    "\n",
    "Вам предоставлены пробы нефти в трёх регионах: в каждом 10 000 месторождений, где измерили качество нефти и объём её запасов. Постройте модель машинного обучения, которая поможет определить регион, где добыча принесёт наибольшую прибыль. Проанализируйте возможную прибыль и риски техникой *Bootstrap.*\n",
    "\n",
    "Шаги для выбора локации:\n",
    "\n",
    "- В избранном регионе ищут месторождения, для каждого определяют значения признаков;\n",
    "- Строят модель и оценивают объём запасов;\n",
    "- Выбирают месторождения с самым высокими оценками значений. Количество месторождений зависит от бюджета компании и стоимости разработки одной скважины;\n",
    "- Прибыль равна суммарной прибыли отобранных месторождений."
   ]
  },
  {
   "cell_type": "markdown",
   "metadata": {},
   "source": [
    "## Загрузка и подготовка данных"
   ]
  },
  {
   "cell_type": "code",
   "execution_count": 2,
   "metadata": {},
   "outputs": [],
   "source": [
    "import pandas as pd\n",
    "import numpy as np\n",
    "import scipy.stats as st\n",
    "from sklearn.model_selection import train_test_split\n",
    "from sklearn.linear_model import LinearRegression\n",
    "from sklearn.metrics import mean_squared_error\n",
    "from sklearn.metrics import r2_score"
   ]
  },
  {
   "cell_type": "markdown",
   "metadata": {},
   "source": [
    "Загрузим данные из трёх скважин:"
   ]
  },
  {
   "cell_type": "code",
   "execution_count": 3,
   "metadata": {},
   "outputs": [],
   "source": [
    "try:\n",
    "    well_1 = pd.read_csv(\"data_1.csv\")\n",
    "except:\n",
    "    print(\"Could not open the file data_1\")\n",
    "try:\n",
    "    well_2 = pd.read_csv(\"data_2.csv\")\n",
    "except:\n",
    "    print(\"Could not open the file data_2\")\n",
    "try:\n",
    "    well_3 = pd.read_csv(\"data_3.csv\")\n",
    "except:\n",
    "    print(\"Could not open the file data_3\")"
   ]
  },
  {
   "cell_type": "markdown",
   "metadata": {},
   "source": [
    "напишем функцию для просмотра входящих данных"
   ]
  },
  {
   "cell_type": "code",
   "execution_count": 4,
   "metadata": {},
   "outputs": [],
   "source": [
    "def checking_the_input_data(data):\n",
    "    print(data.head())\n",
    "    print()\n",
    "    print(\"shape\", data.shape)\n",
    "    print()\n",
    "    print(\"isna:\", data.isna().sum())\n",
    "    print()\n",
    "    print(\"duplicated:\", data.duplicated().sum())\n"
   ]
  },
  {
   "cell_type": "code",
   "execution_count": 5,
   "metadata": {},
   "outputs": [
    {
     "name": "stdout",
     "output_type": "stream",
     "text": [
      "      id        f0        f1        f2     product\n",
      "0  txEyH  0.705745 -0.497823  1.221170  105.280062\n",
      "1  2acmU  1.334711 -0.340164  4.365080   73.037750\n",
      "2  409Wp  1.022732  0.151990  1.419926   85.265647\n",
      "3  iJLyR -0.032172  0.139033  2.978566  168.620776\n",
      "4  Xdl7t  1.988431  0.155413  4.751769  154.036647\n",
      "\n",
      "shape (100000, 5)\n",
      "\n",
      "isna: id         0\n",
      "f0         0\n",
      "f1         0\n",
      "f2         0\n",
      "product    0\n",
      "dtype: int64\n",
      "\n",
      "duplicated: 0\n"
     ]
    }
   ],
   "source": [
    "checking_the_input_data(well_1)"
   ]
  },
  {
   "cell_type": "code",
   "execution_count": 6,
   "metadata": {},
   "outputs": [
    {
     "name": "stdout",
     "output_type": "stream",
     "text": [
      "      id         f0         f1        f2     product\n",
      "0  kBEdx -15.001348  -8.276000 -0.005876    3.179103\n",
      "1  62mP7  14.272088  -3.475083  0.999183   26.953261\n",
      "2  vyE1P   6.263187  -5.948386  5.001160  134.766305\n",
      "3  KcrkZ -13.081196 -11.506057  4.999415  137.945408\n",
      "4  AHL4O  12.702195  -8.147433  5.004363  134.766305\n",
      "\n",
      "shape (100000, 5)\n",
      "\n",
      "isna: id         0\n",
      "f0         0\n",
      "f1         0\n",
      "f2         0\n",
      "product    0\n",
      "dtype: int64\n",
      "\n",
      "duplicated: 0\n"
     ]
    }
   ],
   "source": [
    "checking_the_input_data(well_2)"
   ]
  },
  {
   "cell_type": "code",
   "execution_count": 7,
   "metadata": {},
   "outputs": [
    {
     "name": "stdout",
     "output_type": "stream",
     "text": [
      "      id        f0        f1        f2     product\n",
      "0  fwXo0 -1.146987  0.963328 -0.828965   27.758673\n",
      "1  WJtFt  0.262778  0.269839 -2.530187   56.069697\n",
      "2  ovLUW  0.194587  0.289035 -5.586433   62.871910\n",
      "3  q6cA6  2.236060 -0.553760  0.930038  114.572842\n",
      "4  WPMUX -0.515993  1.716266  5.899011  149.600746\n",
      "\n",
      "shape (100000, 5)\n",
      "\n",
      "isna: id         0\n",
      "f0         0\n",
      "f1         0\n",
      "f2         0\n",
      "product    0\n",
      "dtype: int64\n",
      "\n",
      "duplicated: 0\n"
     ]
    }
   ],
   "source": [
    "checking_the_input_data(well_3)"
   ]
  },
  {
   "cell_type": "markdown",
   "metadata": {},
   "source": [
    "Данные геологоразведки всех трёх скважин имеют одинаковые размеры, не имеют пропусков и дубликатов"
   ]
  },
  {
   "cell_type": "markdown",
   "metadata": {},
   "source": [
    "## Обучение и проверка модели"
   ]
  },
  {
   "cell_type": "markdown",
   "metadata": {},
   "source": [
    "### Разобьём данные каждой скважины на обучающую и валидационную выборки в соотношении 75:25. Обучим модель линейной регрессии и сделаем предсказания на валидационной выборке. Найдём RMSE и R2 модели каждой скважины.  Для всего этого напишем функцию rmse_r2, которая будет возвращать предсказания, правильные ответы на валидационной выборке, а также RMSE и R2."
   ]
  },
  {
   "cell_type": "code",
   "execution_count": 8,
   "metadata": {},
   "outputs": [],
   "source": [
    "def rmse_r2(data):\n",
    "    target = data['product']\n",
    "    features = data.drop(['product',\"id\"], axis = 1)\n",
    "    features_train, features_valid, target_train, target_valid = train_test_split(features, target, test_size = 0.25, random_state = 1234)\n",
    "    model = LinearRegression()\n",
    "    model.fit(features_train, target_train)\n",
    "    predict = model.predict(features_valid)\n",
    "    rmse = mean_squared_error(target_valid, predict)**.5\n",
    "    r2 = r2_score(target_valid, predict)\n",
    "    return target_valid, predict, rmse, r2\n"
   ]
  },
  {
   "cell_type": "markdown",
   "metadata": {},
   "source": [
    "Посмотрим RMSE и R2 каждой скважины"
   ]
  },
  {
   "cell_type": "code",
   "execution_count": 9,
   "metadata": {},
   "outputs": [
    {
     "name": "stdout",
     "output_type": "stream",
     "text": [
      "RMSE первой скважины: 37.562394183637785\n",
      "R-Squared первой скважины 0.2740586761361865\n",
      "****************************\n",
      "RMSE второй скважины: 0.8939344738117703\n",
      "R-Squared второй скважины 0.999619058765352\n",
      "****************************\n",
      "RMSE третьей скважины: 40.10318099258418\n",
      "R-Squared третьей скважины 0.1983301043994069\n"
     ]
    }
   ],
   "source": [
    "w1_target_valid, w1_predict, w1_rmse, w1_r2 = rmse_r2(well_1)\n",
    "print(\"RMSE первой скважины:\", w1_rmse)\n",
    "print(\"R-Squared первой скважины\", w1_r2)\n",
    "\n",
    "print(\"****************************\")\n",
    "w2_target_valid, w2_predict, w2_rmse, w2_r2 = rmse_r2(well_2)\n",
    "print(\"RMSE второй скважины:\", w2_rmse)\n",
    "print(\"R-Squared второй скважины\", w2_r2)\n",
    "\n",
    "print('****************************')\n",
    "w3_target_valid, w3_predict, w3_rmse, w3_r2 = rmse_r2(well_3)\n",
    "print(\"RMSE третьей скважины:\", w3_rmse)\n",
    "print(\"R-Squared третьей скважины\", w3_r2)\n"
   ]
  },
  {
   "cell_type": "markdown",
   "metadata": {},
   "source": [
    "### Напечатаем на экране средний запас предсказанного сырья и RMSE модели."
   ]
  },
  {
   "cell_type": "code",
   "execution_count": 10,
   "metadata": {},
   "outputs": [
    {
     "data": {
      "text/html": [
       "<div>\n",
       "<style scoped>\n",
       "    .dataframe tbody tr th:only-of-type {\n",
       "        vertical-align: middle;\n",
       "    }\n",
       "\n",
       "    .dataframe tbody tr th {\n",
       "        vertical-align: top;\n",
       "    }\n",
       "\n",
       "    .dataframe thead th {\n",
       "        text-align: right;\n",
       "    }\n",
       "</style>\n",
       "<table border=\"1\" class=\"dataframe\">\n",
       "  <thead>\n",
       "    <tr style=\"text-align: right;\">\n",
       "      <th></th>\n",
       "      <th>скважина_1</th>\n",
       "      <th>скважина_2</th>\n",
       "      <th>скважина_3</th>\n",
       "    </tr>\n",
       "  </thead>\n",
       "  <tbody>\n",
       "    <tr>\n",
       "      <th>Cредний запас предсказанного сырья</th>\n",
       "      <td>92.430460</td>\n",
       "      <td>68.802482</td>\n",
       "      <td>94.915738</td>\n",
       "    </tr>\n",
       "    <tr>\n",
       "      <th>RMSE модели</th>\n",
       "      <td>37.562394</td>\n",
       "      <td>0.893934</td>\n",
       "      <td>40.103181</td>\n",
       "    </tr>\n",
       "  </tbody>\n",
       "</table>\n",
       "</div>"
      ],
      "text/plain": [
       "                                    скважина_1  скважина_2  скважина_3\n",
       "Cредний запас предсказанного сырья   92.430460   68.802482   94.915738\n",
       "RMSE модели                          37.562394    0.893934   40.103181"
      ]
     },
     "execution_count": 10,
     "metadata": {},
     "output_type": "execute_result"
    }
   ],
   "source": [
    "aver_rmse = pd.DataFrame(index=[\"Cредний запас предсказанного сырья\", \"RMSE модели\" ], columns = [\"скважина_1\",\"скважина_2\", 'скважина_3'])\n",
    "aver_rmse[\"скважина_1\"] = w1_predict.mean(), w1_rmse\n",
    "aver_rmse[\"скважина_2\"] = w2_predict.mean(), w2_rmse\n",
    "aver_rmse[\"скважина_3\"] = w3_predict.mean(), w3_rmse\n",
    "aver_rmse"
   ]
  },
  {
   "cell_type": "markdown",
   "metadata": {},
   "source": [
    "Мы разбили данные по каждой скважине на обучающую и валидационную выборки в пропорции 75:25, обучили на них модель линейной регрессии и сделали предсказания. Для модели каждого региона были найдена метрика RMSE. Для второго региона величина среднеквадратичной ошибки оказалась сильно меньше двух других и составила 0,894 против 37,562 для первого и 40,103 для третьего."
   ]
  },
  {
   "cell_type": "markdown",
   "metadata": {},
   "source": [
    "## Подготовка к расчёту прибыли"
   ]
  },
  {
   "cell_type": "markdown",
   "metadata": {},
   "source": [
    "### Сохраним все ключевые значения для расчётов в отдельных переменных"
   ]
  },
  {
   "cell_type": "markdown",
   "metadata": {},
   "source": [
    "В условии указано, что бюджет на разработку скважин в регионе составляетс 10млрд рублей или 10 000 000тыс"
   ]
  },
  {
   "cell_type": "code",
   "execution_count": 11,
   "metadata": {},
   "outputs": [],
   "source": [
    "BUDGET = 10**7"
   ]
  },
  {
   "cell_type": "markdown",
   "metadata": {},
   "source": [
    "Доход с каждой единицы продукта (тысяча баррелей) составляет 450 000 рублей"
   ]
  },
  {
   "cell_type": "code",
   "execution_count": 12,
   "metadata": {},
   "outputs": [],
   "source": [
    "INCOME_FROM_ONE = 450"
   ]
  },
  {
   "cell_type": "markdown",
   "metadata": {},
   "source": [
    "Вероятность убытков должна быть меньше 2,5%"
   ]
  },
  {
   "cell_type": "code",
   "execution_count": 13,
   "metadata": {},
   "outputs": [],
   "source": [
    "probability_of_losses = 0.025"
   ]
  },
  {
   "cell_type": "markdown",
   "metadata": {},
   "source": [
    "С помощью машинного обучения необходимо выбрать 200 лучших точек для разработки из 500 для каждого региона. Значит, бюджет на разработку одной скважины"
   ]
  },
  {
   "cell_type": "code",
   "execution_count": 14,
   "metadata": {},
   "outputs": [],
   "source": [
    "BUDGET_FOR_ONE = BUDGET/200"
   ]
  },
  {
   "cell_type": "markdown",
   "metadata": {},
   "source": [
    "A значит, минимальный объём скважины должен быть не менее"
   ]
  },
  {
   "cell_type": "code",
   "execution_count": 15,
   "metadata": {},
   "outputs": [],
   "source": [
    "min_vol_for_one = BUDGET_FOR_ONE/INCOME_FROM_ONE"
   ]
  },
  {
   "cell_type": "markdown",
   "metadata": {},
   "source": [
    "Ещё нам необходимы будут размеры средних запасов для каждого региона"
   ]
  },
  {
   "cell_type": "code",
   "execution_count": 16,
   "metadata": {},
   "outputs": [],
   "source": [
    "OIL_RESERVES_1 = well_1['product'].mean()\n",
    "OIL_RESERVES_2 = well_2['product'].mean()\n",
    "OIL_RESERVES_3 = well_3['product'].mean()"
   ]
  },
  {
   "cell_type": "markdown",
   "metadata": {},
   "source": [
    "### Посмотрим, что получилось"
   ]
  },
  {
   "cell_type": "code",
   "execution_count": 19,
   "metadata": {
    "scrolled": true
   },
   "outputs": [
    {
     "name": "stdout",
     "output_type": "stream",
     "text": [
      "Бюджет на разработку в регионе 10000.0 млн.руб\n",
      "Доход с тысячи баррелей 450 тыс.руб\n",
      "Критическая вероятность уровня убытков 2.5 %\n",
      "Бюджет на одну скважину 0.05 млн.руб\n",
      "Минимальный объём неубыточной скважины  112.0 тыс. баррелей\n",
      "Средние запасы для каждого региона (млн. баррелей):\n",
      "92\n",
      "68\n",
      "95\n"
     ]
    }
   ],
   "source": [
    "print(\"Бюджет на разработку в регионе\", BUDGET/1000, \"млн.руб\" )\n",
    "print(\"Доход с тысячи баррелей\", INCOME_FROM_ONE, 'тыс.руб')\n",
    "print(\"Критическая вероятность уровня убытков\", probability_of_losses*100, \"%\" )\n",
    "print(\"Бюджет на одну скважину\", BUDGET_FOR_ONE/1000000, \"млн.руб\")\n",
    "print('Минимальный объём неубыточной скважины ', np.ceil(min_vol_for_one), 'тыс. баррелей')\n",
    "print(\"Средние запасы для каждого региона (млн. баррелей):\", int(OIL_RESERVES_1), int(OIL_RESERVES_2), int(OIL_RESERVES_3), sep = '\\n')"
   ]
  },
  {
   "cell_type": "markdown",
   "metadata": {},
   "source": [
    "### Напишем функцию расчёта прибыли"
   ]
  },
  {
   "cell_type": "code",
   "execution_count": 31,
   "metadata": {},
   "outputs": [],
   "source": [
    "def profit(target, predictions):\n",
    "    data = {'predictions':predictions.values, 'target':target.values}\n",
    "    top = pd.DataFrame(data)\n",
    "    top = top.sort_values(by ='predictions',ascending=False)\n",
    "    top200_predictions = top['predictions'].iloc[:200]\n",
    "    top200_target =top['target'].iloc[:200]\n",
    "    revenue = INCOME_FROM_ONE*top200_target.sum()\n",
    "    return revenue - BUDGET"
   ]
  },
  {
   "cell_type": "markdown",
   "metadata": {},
   "source": [
    "Как видим, средние запасы для каждого региона по результатам 500 скважин ниже, чем минимальный объём неубыточной скважины. Посмотрим, что получится, когда мы отберём 200 лучших."
   ]
  },
  {
   "cell_type": "markdown",
   "metadata": {},
   "source": [
    "## Расчёт прибыли и рисков "
   ]
  },
  {
   "cell_type": "markdown",
   "metadata": {},
   "source": [
    "### Применим технику Bootstrap c 1000 выборок, чтобы найти распределение прибыли"
   ]
  },
  {
   "cell_type": "code",
   "execution_count": 32,
   "metadata": {},
   "outputs": [],
   "source": [
    "state = np.random.RandomState(1234)"
   ]
  },
  {
   "cell_type": "code",
   "execution_count": 33,
   "metadata": {},
   "outputs": [],
   "source": [
    "def bootstrap_revenue(predictions, target):\n",
    "    revenue = []\n",
    "    predictions_s =pd.Series(predictions, index=target.index)\n",
    "    for i in range(1000):  \n",
    "        target_subsample = target.sample(n = 500, replace = True, random_state=state)\n",
    "        predictions_subsample =predictions_s[target_subsample.index]\n",
    "        revenue.append(profit(target_subsample, predictions_subsample))\n",
    "    revenue = pd.Series(revenue)\n",
    "    lower = revenue.quantile(q=0.025)\n",
    "    high = revenue.quantile(q=0.975)\n",
    "    mean = revenue.mean()\n",
    "    confidence_interval = st.t.interval(0.95, len(revenue)-1, revenue.mean(), revenue.sem())\n",
    "    loss = st.percentileofscore(revenue, 0)\n",
    "    print( '***')\n",
    "    print('Прибыль в регионе будет составлять (вероятность = 95%) от: {:.1f} млн.руб до: {:.1f} млн.руб'.format((lower/1000),(high/1000)))\n",
    "    print('Среднее значение прибыли в регионе {:.1f} млн.руб'.format(mean/1000))\n",
    "    print('95-процентный доверительный интервал находится в пределах', confidence_interval, 'тыс. руб')\n",
    "    print ('Вероятность убытка в процентах {:.3}'.format(loss))"
   ]
  },
  {
   "cell_type": "code",
   "execution_count": 36,
   "metadata": {},
   "outputs": [
    {
     "name": "stdout",
     "output_type": "stream",
     "text": [
      "регион 1\n",
      "***\n",
      "Прибыль в регионе будет составлять (вероятность = 95%) от: -78.6 млн.руб до: 902.7 млн.руб\n",
      "Среднее значение прибыли в регионе 413.3 млн.руб\n",
      "95-процентный доверительный интервал находится в пределах (397793.7230647271, 428738.58583341615) тыс. руб\n",
      "Вероятность убытка в процентах 4.4\n"
     ]
    }
   ],
   "source": [
    "print(\"регион 1\")\n",
    "bootstrap_revenue(w1_predict, w1_target_valid)"
   ]
  },
  {
   "cell_type": "code",
   "execution_count": 34,
   "metadata": {},
   "outputs": [
    {
     "name": "stdout",
     "output_type": "stream",
     "text": [
      "регион 2\n",
      "***\n",
      "Прибыль в регионе будет составлять (вероятность = 95%) от: 32.5 млн.руб до: 847.4 млн.руб\n",
      "Среднее значение прибыли в регионе 429.1 млн.руб\n",
      "95-процентный доверительный интервал находится в пределах (416354.5517269733, 441815.7440858635) тыс. руб\n",
      "Вероятность убытка в процентах 1.9\n"
     ]
    }
   ],
   "source": [
    "print(\"регион 2\")\n",
    "bootstrap_revenue(w2_predict, w2_target_valid)"
   ]
  },
  {
   "cell_type": "code",
   "execution_count": 35,
   "metadata": {},
   "outputs": [
    {
     "name": "stdout",
     "output_type": "stream",
     "text": [
      "регион 3\n",
      "***\n",
      "Прибыль в регионе будет составлять (вероятность = 95%) от: -142.8 млн.руб до: 855.5 млн.руб\n",
      "Среднее значение прибыли в регионе 350.1 млн.руб\n",
      "95-процентный доверительный интервал находится в пределах (334206.37146636925, 365924.7709845834) тыс. руб\n",
      "Вероятность убытка в процентах 7.9\n"
     ]
    }
   ],
   "source": [
    "print(\"регион 3\")\n",
    "bootstrap_revenue(w3_predict, w3_target_valid)"
   ]
  },
  {
   "cell_type": "markdown",
   "metadata": {},
   "source": [
    "Как видим, самым удачным по показателям является регион №2, так как доверительный интервал и среднее значение прибыли у него самые высокие, а вероятность убытка самая низкая. "
   ]
  },
  {
   "cell_type": "markdown",
   "metadata": {},
   "source": [
    "Вывод:   \n",
    "После загрузки данных по трём регионам, была проведена проверка на наличие пропусков и дубликатов. Данные были разбиты на обучающую и валидационную выборки.Была построена модель линейной регрессии, которая должна предсказывать запасы нефти. Для каждого региона были найдены метрики RMSE. Самым низким это значение оказалось у второго региона и составила 0,894. Было посчитано минимальное среднее количество продукта в месторождениях региона, достаточное для разработки. Оно составило 112 тыс баррелей. Была проведена процедура бутстрепа, по результатам которого лучшие показатели прибыли, доверительного интервала и вероятность убытка оказались у региона №2. Поэтому регион, который мы предлагаем  для разработки месторождения - второй.\n"
   ]
  }
 ],
 "metadata": {
  "ExecuteTimeLog": [
   {
    "duration": 470,
    "start_time": "2023-05-11T08:17:35.689Z"
   },
   {
    "duration": 3,
    "start_time": "2023-05-11T08:17:53.059Z"
   },
   {
    "duration": 874,
    "start_time": "2023-05-11T08:21:29.126Z"
   },
   {
    "duration": 25,
    "start_time": "2023-05-11T08:44:12.253Z"
   },
   {
    "duration": 14,
    "start_time": "2023-05-11T08:44:29.134Z"
   },
   {
    "duration": 11,
    "start_time": "2023-05-11T08:44:42.396Z"
   },
   {
    "duration": 3,
    "start_time": "2023-05-11T09:01:08.755Z"
   },
   {
    "duration": 8,
    "start_time": "2023-05-11T09:04:52.701Z"
   },
   {
    "duration": 102,
    "start_time": "2023-05-11T09:05:48.462Z"
   },
   {
    "duration": 4,
    "start_time": "2023-05-11T09:06:02.373Z"
   },
   {
    "duration": 3,
    "start_time": "2023-05-11T09:06:09.937Z"
   },
   {
    "duration": 3,
    "start_time": "2023-05-11T09:06:20.669Z"
   },
   {
    "duration": 3,
    "start_time": "2023-05-11T09:06:33.123Z"
   },
   {
    "duration": 90,
    "start_time": "2023-05-11T09:06:46.690Z"
   },
   {
    "duration": 58,
    "start_time": "2023-05-11T09:07:01.198Z"
   },
   {
    "duration": 15,
    "start_time": "2023-05-11T09:07:04.783Z"
   },
   {
    "duration": 115,
    "start_time": "2023-05-11T09:07:06.920Z"
   },
   {
    "duration": 3,
    "start_time": "2023-05-11T09:07:23.253Z"
   },
   {
    "duration": 50,
    "start_time": "2023-05-11T09:08:17.419Z"
   },
   {
    "duration": 3,
    "start_time": "2023-05-11T09:08:46.805Z"
   },
   {
    "duration": 55,
    "start_time": "2023-05-11T09:08:49.347Z"
   },
   {
    "duration": 55,
    "start_time": "2023-05-11T09:08:56.741Z"
   },
   {
    "duration": 3,
    "start_time": "2023-05-11T09:09:04.741Z"
   },
   {
    "duration": 56,
    "start_time": "2023-05-11T09:09:07.073Z"
   },
   {
    "duration": 4,
    "start_time": "2023-05-11T09:09:56.074Z"
   },
   {
    "duration": 95,
    "start_time": "2023-05-11T09:09:57.858Z"
   },
   {
    "duration": 3,
    "start_time": "2023-05-11T09:10:12.840Z"
   },
   {
    "duration": 75,
    "start_time": "2023-05-11T09:10:13.893Z"
   },
   {
    "duration": 4,
    "start_time": "2023-05-11T09:10:49.738Z"
   },
   {
    "duration": 58,
    "start_time": "2023-05-11T09:10:55.493Z"
   },
   {
    "duration": 56,
    "start_time": "2023-05-11T09:11:21.057Z"
   },
   {
    "duration": 69,
    "start_time": "2023-05-11T09:11:30.339Z"
   },
   {
    "duration": 81,
    "start_time": "2023-05-11T09:12:15.473Z"
   },
   {
    "duration": 4,
    "start_time": "2023-05-11T09:12:21.167Z"
   },
   {
    "duration": 61,
    "start_time": "2023-05-11T09:12:22.120Z"
   },
   {
    "duration": 59,
    "start_time": "2023-05-11T09:12:22.667Z"
   },
   {
    "duration": 62,
    "start_time": "2023-05-11T09:12:23.381Z"
   },
   {
    "duration": 8,
    "start_time": "2023-05-12T09:59:09.522Z"
   },
   {
    "duration": 1279,
    "start_time": "2023-05-12T10:00:19.481Z"
   },
   {
    "duration": 1622,
    "start_time": "2023-05-12T10:00:22.659Z"
   },
   {
    "duration": 3,
    "start_time": "2023-05-12T10:00:26.397Z"
   },
   {
    "duration": 67,
    "start_time": "2023-05-12T10:00:27.718Z"
   },
   {
    "duration": 59,
    "start_time": "2023-05-12T10:00:28.769Z"
   },
   {
    "duration": 66,
    "start_time": "2023-05-12T10:00:29.614Z"
   },
   {
    "duration": 4,
    "start_time": "2023-05-12T10:00:34.580Z"
   },
   {
    "duration": 144,
    "start_time": "2023-05-12T10:02:30.422Z"
   },
   {
    "duration": 4,
    "start_time": "2023-05-12T10:03:00.228Z"
   },
   {
    "duration": 38,
    "start_time": "2023-05-12T10:03:01.135Z"
   },
   {
    "duration": 49,
    "start_time": "2023-05-12T10:03:17.353Z"
   },
   {
    "duration": 57,
    "start_time": "2023-05-12T10:04:19.056Z"
   },
   {
    "duration": 4,
    "start_time": "2023-05-12T10:54:57.527Z"
   },
   {
    "duration": 172,
    "start_time": "2023-05-12T10:54:58.180Z"
   },
   {
    "duration": 10,
    "start_time": "2023-05-12T11:06:08.060Z"
   },
   {
    "duration": 4,
    "start_time": "2023-05-12T11:06:18.792Z"
   },
   {
    "duration": 32,
    "start_time": "2023-05-12T11:06:22.156Z"
   },
   {
    "duration": 33,
    "start_time": "2023-05-12T11:09:57.456Z"
   },
   {
    "duration": 4,
    "start_time": "2023-05-12T11:10:57.669Z"
   },
   {
    "duration": 436,
    "start_time": "2023-05-12T11:10:59.499Z"
   },
   {
    "duration": 3,
    "start_time": "2023-05-12T11:11:00.340Z"
   },
   {
    "duration": 70,
    "start_time": "2023-05-12T11:11:00.744Z"
   },
   {
    "duration": 65,
    "start_time": "2023-05-12T11:11:01.187Z"
   },
   {
    "duration": 73,
    "start_time": "2023-05-12T11:11:01.748Z"
   },
   {
    "duration": 5,
    "start_time": "2023-05-12T11:11:04.476Z"
   },
   {
    "duration": 71,
    "start_time": "2023-05-12T11:11:05.130Z"
   },
   {
    "duration": 4,
    "start_time": "2023-05-12T11:11:06.859Z"
   },
   {
    "duration": 32,
    "start_time": "2023-05-12T11:11:07.701Z"
   },
   {
    "duration": 62,
    "start_time": "2023-05-12T11:13:12.301Z"
   },
   {
    "duration": 31,
    "start_time": "2023-05-12T11:14:06.224Z"
   },
   {
    "duration": 33,
    "start_time": "2023-05-12T11:14:22.353Z"
   },
   {
    "duration": 41,
    "start_time": "2023-05-12T11:15:10.512Z"
   },
   {
    "duration": 4,
    "start_time": "2023-05-12T11:21:32.863Z"
   },
   {
    "duration": 36,
    "start_time": "2023-05-12T11:21:33.945Z"
   },
   {
    "duration": 4,
    "start_time": "2023-05-12T11:21:35.842Z"
   },
   {
    "duration": 4,
    "start_time": "2023-05-12T11:22:40.594Z"
   },
   {
    "duration": 410,
    "start_time": "2023-05-12T11:22:41.366Z"
   },
   {
    "duration": 4,
    "start_time": "2023-05-12T11:22:42.173Z"
   },
   {
    "duration": 66,
    "start_time": "2023-05-12T11:22:42.583Z"
   },
   {
    "duration": 52,
    "start_time": "2023-05-12T11:22:43.001Z"
   },
   {
    "duration": 65,
    "start_time": "2023-05-12T11:22:43.426Z"
   },
   {
    "duration": 4,
    "start_time": "2023-05-12T11:22:45.699Z"
   },
   {
    "duration": 29,
    "start_time": "2023-05-12T11:22:46.352Z"
   },
   {
    "duration": 4,
    "start_time": "2023-05-12T11:22:48.328Z"
   },
   {
    "duration": 15,
    "start_time": "2023-05-12T11:22:52.601Z"
   },
   {
    "duration": 59,
    "start_time": "2023-05-12T11:23:45.045Z"
   },
   {
    "duration": 179,
    "start_time": "2023-05-12T11:24:16.322Z"
   },
   {
    "duration": 275,
    "start_time": "2023-05-12T11:31:55.331Z"
   },
   {
    "duration": 381,
    "start_time": "2023-05-12T11:33:32.522Z"
   },
   {
    "duration": 5,
    "start_time": "2023-05-12T11:42:04.911Z"
   },
   {
    "duration": 4,
    "start_time": "2023-05-12T11:42:46.686Z"
   },
   {
    "duration": 9,
    "start_time": "2023-05-12T11:44:27.914Z"
   },
   {
    "duration": 4,
    "start_time": "2023-05-12T11:44:50.869Z"
   },
   {
    "duration": 9,
    "start_time": "2023-05-12T11:44:51.498Z"
   },
   {
    "duration": 18,
    "start_time": "2023-05-12T11:46:38.317Z"
   },
   {
    "duration": 1039,
    "start_time": "2023-05-12T11:49:43.857Z"
   },
   {
    "duration": 388,
    "start_time": "2023-05-12T11:49:44.898Z"
   },
   {
    "duration": 3,
    "start_time": "2023-05-12T11:49:45.288Z"
   },
   {
    "duration": 61,
    "start_time": "2023-05-12T11:49:45.296Z"
   },
   {
    "duration": 68,
    "start_time": "2023-05-12T11:49:45.359Z"
   },
   {
    "duration": 76,
    "start_time": "2023-05-12T11:49:45.429Z"
   },
   {
    "duration": 4,
    "start_time": "2023-05-12T11:49:45.507Z"
   },
   {
    "duration": 123,
    "start_time": "2023-05-12T11:49:45.512Z"
   },
   {
    "duration": 3,
    "start_time": "2023-05-12T11:50:28.252Z"
   },
   {
    "duration": 390,
    "start_time": "2023-05-12T11:50:30.618Z"
   },
   {
    "duration": 109,
    "start_time": "2023-05-12T11:57:23.590Z"
   },
   {
    "duration": 5,
    "start_time": "2023-05-12T11:57:38.322Z"
   },
   {
    "duration": 448,
    "start_time": "2023-05-12T11:57:38.850Z"
   },
   {
    "duration": 370,
    "start_time": "2023-05-12T12:00:37.197Z"
   },
   {
    "duration": 144,
    "start_time": "2023-05-12T12:00:51.086Z"
   },
   {
    "duration": 367,
    "start_time": "2023-05-12T12:00:59.955Z"
   },
   {
    "duration": 371,
    "start_time": "2023-05-12T12:04:40.631Z"
   },
   {
    "duration": 4,
    "start_time": "2023-05-12T12:09:41.590Z"
   },
   {
    "duration": 4,
    "start_time": "2023-05-12T12:11:06.194Z"
   },
   {
    "duration": 416,
    "start_time": "2023-05-12T12:11:09.200Z"
   },
   {
    "duration": 7,
    "start_time": "2023-05-12T12:59:57.593Z"
   },
   {
    "duration": 19,
    "start_time": "2023-05-12T13:00:17.150Z"
   },
   {
    "duration": 13,
    "start_time": "2023-05-12T13:00:32.906Z"
   },
   {
    "duration": 12,
    "start_time": "2023-05-12T14:04:47.866Z"
   },
   {
    "duration": 14,
    "start_time": "2023-05-12T14:05:16.934Z"
   },
   {
    "duration": 9,
    "start_time": "2023-05-12T14:05:43.119Z"
   },
   {
    "duration": 12,
    "start_time": "2023-05-12T14:05:55.064Z"
   },
   {
    "duration": 16,
    "start_time": "2023-05-12T14:20:26.144Z"
   },
   {
    "duration": 2,
    "start_time": "2023-05-12T15:11:01.886Z"
   },
   {
    "duration": 3,
    "start_time": "2023-05-12T15:20:54.087Z"
   },
   {
    "duration": 3,
    "start_time": "2023-05-12T15:25:05.994Z"
   },
   {
    "duration": 6,
    "start_time": "2023-05-12T15:29:04.915Z"
   },
   {
    "duration": 2,
    "start_time": "2023-05-12T15:39:32.552Z"
   },
   {
    "duration": 4,
    "start_time": "2023-05-12T15:40:20.787Z"
   },
   {
    "duration": 15,
    "start_time": "2023-05-12T15:42:53.135Z"
   },
   {
    "duration": 2,
    "start_time": "2023-05-12T15:43:01.868Z"
   },
   {
    "duration": 3,
    "start_time": "2023-05-12T15:43:04.284Z"
   },
   {
    "duration": 5,
    "start_time": "2023-05-12T15:46:58.691Z"
   },
   {
    "duration": 5,
    "start_time": "2023-05-12T15:48:34.723Z"
   },
   {
    "duration": 7,
    "start_time": "2023-05-12T15:48:47.623Z"
   },
   {
    "duration": 5,
    "start_time": "2023-05-12T15:49:25.939Z"
   },
   {
    "duration": 6,
    "start_time": "2023-05-12T15:49:42.151Z"
   },
   {
    "duration": 4,
    "start_time": "2023-05-12T16:40:04.597Z"
   },
   {
    "duration": 7,
    "start_time": "2023-05-12T16:42:18.962Z"
   },
   {
    "duration": 3,
    "start_time": "2023-05-12T16:43:29.670Z"
   },
   {
    "duration": 3,
    "start_time": "2023-05-12T16:43:31.796Z"
   },
   {
    "duration": 3,
    "start_time": "2023-05-12T16:43:32.947Z"
   },
   {
    "duration": 2,
    "start_time": "2023-05-12T16:43:34.092Z"
   },
   {
    "duration": 5,
    "start_time": "2023-05-12T16:43:35.711Z"
   },
   {
    "duration": 7,
    "start_time": "2023-05-12T16:43:37.976Z"
   },
   {
    "duration": 6,
    "start_time": "2023-05-12T16:43:50.678Z"
   },
   {
    "duration": 7,
    "start_time": "2023-05-12T16:44:51.881Z"
   },
   {
    "duration": 81,
    "start_time": "2023-05-12T16:46:40.206Z"
   },
   {
    "duration": 190,
    "start_time": "2023-05-12T16:47:04.580Z"
   },
   {
    "duration": 11,
    "start_time": "2023-05-12T16:48:31.156Z"
   },
   {
    "duration": 3,
    "start_time": "2023-05-12T16:48:50.393Z"
   },
   {
    "duration": 7,
    "start_time": "2023-05-12T16:48:59.123Z"
   },
   {
    "duration": 6,
    "start_time": "2023-05-12T16:49:08.044Z"
   },
   {
    "duration": 58,
    "start_time": "2023-05-12T19:20:44.421Z"
   },
   {
    "duration": 1275,
    "start_time": "2023-05-12T19:23:43.029Z"
   },
   {
    "duration": 4,
    "start_time": "2023-05-12T19:23:44.369Z"
   },
   {
    "duration": 1268,
    "start_time": "2023-05-12T19:23:44.376Z"
   },
   {
    "duration": 5,
    "start_time": "2023-05-12T19:23:45.646Z"
   },
   {
    "duration": 108,
    "start_time": "2023-05-12T19:23:45.653Z"
   },
   {
    "duration": 86,
    "start_time": "2023-05-12T19:23:45.765Z"
   },
   {
    "duration": 92,
    "start_time": "2023-05-12T19:23:45.853Z"
   },
   {
    "duration": 5,
    "start_time": "2023-05-12T19:23:45.947Z"
   },
   {
    "duration": 459,
    "start_time": "2023-05-12T19:23:45.954Z"
   },
   {
    "duration": 170,
    "start_time": "2023-05-12T19:23:46.422Z"
   },
   {
    "duration": 3,
    "start_time": "2023-05-12T19:23:46.602Z"
   },
   {
    "duration": 6,
    "start_time": "2023-05-12T19:23:46.608Z"
   },
   {
    "duration": 6,
    "start_time": "2023-05-12T19:23:46.616Z"
   },
   {
    "duration": 6,
    "start_time": "2023-05-12T19:23:46.627Z"
   },
   {
    "duration": 8,
    "start_time": "2023-05-12T19:23:46.635Z"
   },
   {
    "duration": 25,
    "start_time": "2023-05-12T19:23:46.645Z"
   },
   {
    "duration": 22,
    "start_time": "2023-05-12T19:23:46.672Z"
   },
   {
    "duration": 1374,
    "start_time": "2023-05-12T19:24:09.412Z"
   },
   {
    "duration": 515,
    "start_time": "2023-05-12T19:24:10.791Z"
   },
   {
    "duration": 4,
    "start_time": "2023-05-12T19:24:11.309Z"
   },
   {
    "duration": 88,
    "start_time": "2023-05-12T19:24:11.316Z"
   },
   {
    "duration": 70,
    "start_time": "2023-05-12T19:24:11.407Z"
   },
   {
    "duration": 83,
    "start_time": "2023-05-12T19:24:11.479Z"
   },
   {
    "duration": 4,
    "start_time": "2023-05-12T19:24:11.564Z"
   },
   {
    "duration": 448,
    "start_time": "2023-05-12T19:24:11.570Z"
   },
   {
    "duration": 104,
    "start_time": "2023-05-12T19:24:12.019Z"
   },
   {
    "duration": 7,
    "start_time": "2023-05-12T19:24:12.196Z"
   },
   {
    "duration": 10,
    "start_time": "2023-05-12T19:24:12.207Z"
   },
   {
    "duration": 12,
    "start_time": "2023-05-12T19:24:12.220Z"
   },
   {
    "duration": 18,
    "start_time": "2023-05-12T19:24:12.234Z"
   },
   {
    "duration": 9,
    "start_time": "2023-05-12T19:24:12.255Z"
   },
   {
    "duration": 15,
    "start_time": "2023-05-12T19:24:12.266Z"
   },
   {
    "duration": 10,
    "start_time": "2023-05-12T19:24:12.283Z"
   },
   {
    "duration": 1171,
    "start_time": "2023-05-13T01:32:23.604Z"
   },
   {
    "duration": 1612,
    "start_time": "2023-05-13T01:32:24.778Z"
   },
   {
    "duration": 10,
    "start_time": "2023-05-13T01:32:26.391Z"
   },
   {
    "duration": 79,
    "start_time": "2023-05-13T01:32:26.407Z"
   },
   {
    "duration": 62,
    "start_time": "2023-05-13T01:32:26.488Z"
   },
   {
    "duration": 82,
    "start_time": "2023-05-13T01:32:26.552Z"
   },
   {
    "duration": 5,
    "start_time": "2023-05-13T01:32:26.637Z"
   },
   {
    "duration": 268,
    "start_time": "2023-05-13T01:32:26.643Z"
   },
   {
    "duration": 89,
    "start_time": "2023-05-13T01:32:26.913Z"
   },
   {
    "duration": 93,
    "start_time": "2023-05-13T01:32:27.004Z"
   },
   {
    "duration": 27,
    "start_time": "2023-05-13T01:32:27.099Z"
   },
   {
    "duration": 17,
    "start_time": "2023-05-13T01:32:27.128Z"
   },
   {
    "duration": 20,
    "start_time": "2023-05-13T01:32:27.147Z"
   },
   {
    "duration": 18,
    "start_time": "2023-05-13T01:32:27.169Z"
   },
   {
    "duration": 15,
    "start_time": "2023-05-13T01:32:27.189Z"
   },
   {
    "duration": 17,
    "start_time": "2023-05-13T01:32:27.205Z"
   },
   {
    "duration": 2,
    "start_time": "2023-05-13T01:38:21.066Z"
   },
   {
    "duration": 95,
    "start_time": "2023-05-13T01:42:12.995Z"
   },
   {
    "duration": 8,
    "start_time": "2023-05-13T01:44:01.242Z"
   },
   {
    "duration": 7,
    "start_time": "2023-05-13T01:44:09.419Z"
   },
   {
    "duration": 10,
    "start_time": "2023-05-13T01:44:14.749Z"
   },
   {
    "duration": 6,
    "start_time": "2023-05-13T01:44:21.374Z"
   },
   {
    "duration": 14,
    "start_time": "2023-05-13T01:44:58.316Z"
   },
   {
    "duration": 15,
    "start_time": "2023-05-13T01:45:01.453Z"
   },
   {
    "duration": 4,
    "start_time": "2023-05-13T01:45:16.432Z"
   },
   {
    "duration": 15,
    "start_time": "2023-05-13T01:45:16.988Z"
   },
   {
    "duration": 4,
    "start_time": "2023-05-13T01:45:52.046Z"
   },
   {
    "duration": 18,
    "start_time": "2023-05-13T01:45:53.110Z"
   },
   {
    "duration": 3,
    "start_time": "2023-05-13T01:50:54.184Z"
   },
   {
    "duration": 22,
    "start_time": "2023-05-13T01:50:55.192Z"
   },
   {
    "duration": 3,
    "start_time": "2023-05-13T01:52:51.242Z"
   },
   {
    "duration": 15,
    "start_time": "2023-05-13T01:52:52.168Z"
   },
   {
    "duration": 3,
    "start_time": "2023-05-13T01:58:05.274Z"
   },
   {
    "duration": 11,
    "start_time": "2023-05-13T01:58:06.235Z"
   },
   {
    "duration": 3,
    "start_time": "2023-05-13T01:58:27.228Z"
   },
   {
    "duration": 4,
    "start_time": "2023-05-13T01:58:33.285Z"
   },
   {
    "duration": 22,
    "start_time": "2023-05-13T01:58:33.883Z"
   },
   {
    "duration": 3,
    "start_time": "2023-05-13T01:59:38.113Z"
   },
   {
    "duration": 15,
    "start_time": "2023-05-13T01:59:40.027Z"
   },
   {
    "duration": 5,
    "start_time": "2023-05-13T02:00:12.123Z"
   },
   {
    "duration": 19,
    "start_time": "2023-05-13T02:00:14.052Z"
   },
   {
    "duration": 3,
    "start_time": "2023-05-13T02:01:58.158Z"
   },
   {
    "duration": 29,
    "start_time": "2023-05-13T02:01:58.805Z"
   },
   {
    "duration": 3,
    "start_time": "2023-05-13T02:03:53.831Z"
   },
   {
    "duration": 4,
    "start_time": "2023-05-13T02:03:58.630Z"
   },
   {
    "duration": 14,
    "start_time": "2023-05-13T02:04:02.260Z"
   },
   {
    "duration": 5,
    "start_time": "2023-05-13T02:04:21.939Z"
   },
   {
    "duration": 20,
    "start_time": "2023-05-13T02:04:22.733Z"
   },
   {
    "duration": 4,
    "start_time": "2023-05-13T02:05:38.255Z"
   },
   {
    "duration": 21,
    "start_time": "2023-05-13T02:05:39.029Z"
   },
   {
    "duration": 8,
    "start_time": "2023-05-13T11:35:38.413Z"
   },
   {
    "duration": 4,
    "start_time": "2023-05-13T11:35:44.086Z"
   },
   {
    "duration": 3,
    "start_time": "2023-05-13T11:36:03.091Z"
   },
   {
    "duration": 52,
    "start_time": "2023-05-13T11:36:03.844Z"
   },
   {
    "duration": 7,
    "start_time": "2023-05-13T11:36:42.276Z"
   },
   {
    "duration": 1035,
    "start_time": "2023-05-13T11:36:56.016Z"
   },
   {
    "duration": 926,
    "start_time": "2023-05-13T11:36:57.054Z"
   },
   {
    "duration": 4,
    "start_time": "2023-05-13T11:36:57.982Z"
   },
   {
    "duration": 64,
    "start_time": "2023-05-13T11:36:57.988Z"
   },
   {
    "duration": 51,
    "start_time": "2023-05-13T11:36:58.054Z"
   },
   {
    "duration": 66,
    "start_time": "2023-05-13T11:36:58.107Z"
   },
   {
    "duration": 4,
    "start_time": "2023-05-13T11:36:58.175Z"
   },
   {
    "duration": 292,
    "start_time": "2023-05-13T11:36:58.181Z"
   },
   {
    "duration": 197,
    "start_time": "2023-05-13T11:36:58.475Z"
   },
   {
    "duration": 2,
    "start_time": "2023-05-13T11:36:58.674Z"
   },
   {
    "duration": 5,
    "start_time": "2023-05-13T11:36:58.678Z"
   },
   {
    "duration": 4,
    "start_time": "2023-05-13T11:36:58.684Z"
   },
   {
    "duration": 5,
    "start_time": "2023-05-13T11:36:58.689Z"
   },
   {
    "duration": 4,
    "start_time": "2023-05-13T11:36:58.695Z"
   },
   {
    "duration": 6,
    "start_time": "2023-05-13T11:36:58.701Z"
   },
   {
    "duration": 6,
    "start_time": "2023-05-13T11:36:58.709Z"
   },
   {
    "duration": 5,
    "start_time": "2023-05-13T11:36:58.717Z"
   },
   {
    "duration": 115,
    "start_time": "2023-05-13T11:36:58.723Z"
   },
   {
    "duration": 0,
    "start_time": "2023-05-13T11:36:58.840Z"
   },
   {
    "duration": 0,
    "start_time": "2023-05-13T11:36:58.841Z"
   },
   {
    "duration": 3,
    "start_time": "2023-05-13T11:37:27.164Z"
   },
   {
    "duration": 15,
    "start_time": "2023-05-13T11:37:27.703Z"
   },
   {
    "duration": 4,
    "start_time": "2023-05-13T11:38:34.920Z"
   },
   {
    "duration": 12,
    "start_time": "2023-05-13T11:38:36.403Z"
   },
   {
    "duration": 4,
    "start_time": "2023-05-13T11:38:49.276Z"
   },
   {
    "duration": 13,
    "start_time": "2023-05-13T11:38:49.968Z"
   },
   {
    "duration": 3,
    "start_time": "2023-05-13T11:58:22.496Z"
   },
   {
    "duration": 3,
    "start_time": "2023-05-13T12:32:06.471Z"
   },
   {
    "duration": 1078,
    "start_time": "2023-05-14T04:10:20.003Z"
   },
   {
    "duration": 1546,
    "start_time": "2023-05-14T04:10:21.083Z"
   },
   {
    "duration": 3,
    "start_time": "2023-05-14T04:10:22.631Z"
   },
   {
    "duration": 68,
    "start_time": "2023-05-14T04:10:22.635Z"
   },
   {
    "duration": 46,
    "start_time": "2023-05-14T04:10:22.706Z"
   },
   {
    "duration": 67,
    "start_time": "2023-05-14T04:10:22.753Z"
   },
   {
    "duration": 4,
    "start_time": "2023-05-14T04:10:22.821Z"
   },
   {
    "duration": 171,
    "start_time": "2023-05-14T04:10:22.826Z"
   },
   {
    "duration": 113,
    "start_time": "2023-05-14T04:10:22.998Z"
   },
   {
    "duration": 15,
    "start_time": "2023-05-14T04:10:23.192Z"
   },
   {
    "duration": 6,
    "start_time": "2023-05-14T04:10:23.208Z"
   },
   {
    "duration": 13,
    "start_time": "2023-05-14T04:10:23.215Z"
   },
   {
    "duration": 7,
    "start_time": "2023-05-14T04:10:23.230Z"
   },
   {
    "duration": 5,
    "start_time": "2023-05-14T04:10:23.239Z"
   },
   {
    "duration": 10,
    "start_time": "2023-05-14T04:10:23.245Z"
   },
   {
    "duration": 6,
    "start_time": "2023-05-14T04:10:23.256Z"
   },
   {
    "duration": 5,
    "start_time": "2023-05-14T04:10:23.263Z"
   },
   {
    "duration": 12,
    "start_time": "2023-05-14T04:10:23.270Z"
   },
   {
    "duration": 13,
    "start_time": "2023-05-14T04:10:23.284Z"
   },
   {
    "duration": 10,
    "start_time": "2023-05-14T04:10:23.300Z"
   },
   {
    "duration": 8,
    "start_time": "2023-05-14T04:10:23.312Z"
   },
   {
    "duration": 114,
    "start_time": "2023-05-14T04:10:23.322Z"
   },
   {
    "duration": 113,
    "start_time": "2023-05-14T04:14:32.900Z"
   },
   {
    "duration": 10,
    "start_time": "2023-05-14T04:14:48.047Z"
   },
   {
    "duration": 4,
    "start_time": "2023-05-14T04:25:09.328Z"
   },
   {
    "duration": 13,
    "start_time": "2023-05-14T04:25:10.459Z"
   },
   {
    "duration": 1113,
    "start_time": "2023-05-14T07:07:59.108Z"
   },
   {
    "duration": 1829,
    "start_time": "2023-05-14T07:08:00.226Z"
   },
   {
    "duration": 5,
    "start_time": "2023-05-14T07:08:02.056Z"
   },
   {
    "duration": 103,
    "start_time": "2023-05-14T07:08:02.062Z"
   },
   {
    "duration": 107,
    "start_time": "2023-05-14T07:08:02.167Z"
   },
   {
    "duration": 63,
    "start_time": "2023-05-14T07:08:02.276Z"
   },
   {
    "duration": 4,
    "start_time": "2023-05-14T07:08:02.341Z"
   },
   {
    "duration": 279,
    "start_time": "2023-05-14T07:08:02.346Z"
   },
   {
    "duration": 93,
    "start_time": "2023-05-14T07:08:02.627Z"
   },
   {
    "duration": 113,
    "start_time": "2023-05-14T07:08:02.722Z"
   },
   {
    "duration": 23,
    "start_time": "2023-05-14T07:08:02.837Z"
   },
   {
    "duration": 7,
    "start_time": "2023-05-14T07:08:02.862Z"
   },
   {
    "duration": 8,
    "start_time": "2023-05-14T07:08:02.871Z"
   },
   {
    "duration": 22,
    "start_time": "2023-05-14T07:08:02.881Z"
   },
   {
    "duration": 45,
    "start_time": "2023-05-14T07:08:02.905Z"
   },
   {
    "duration": 22,
    "start_time": "2023-05-14T07:08:02.951Z"
   },
   {
    "duration": 16,
    "start_time": "2023-05-14T07:08:02.975Z"
   },
   {
    "duration": 41,
    "start_time": "2023-05-14T07:08:02.993Z"
   },
   {
    "duration": 5,
    "start_time": "2023-05-14T07:08:03.036Z"
   },
   {
    "duration": 8,
    "start_time": "2023-05-14T07:08:03.042Z"
   },
   {
    "duration": 116,
    "start_time": "2023-05-14T07:08:03.052Z"
   },
   {
    "duration": 0,
    "start_time": "2023-05-14T07:08:03.169Z"
   },
   {
    "duration": 0,
    "start_time": "2023-05-14T07:08:03.170Z"
   },
   {
    "duration": 4,
    "start_time": "2023-05-14T07:08:30.082Z"
   },
   {
    "duration": 28,
    "start_time": "2023-05-14T07:08:31.684Z"
   },
   {
    "duration": 5,
    "start_time": "2023-05-14T07:11:04.979Z"
   },
   {
    "duration": 11,
    "start_time": "2023-05-14T07:11:06.924Z"
   },
   {
    "duration": 4,
    "start_time": "2023-05-14T07:21:34.359Z"
   },
   {
    "duration": 12,
    "start_time": "2023-05-14T07:21:37.552Z"
   },
   {
    "duration": 1156,
    "start_time": "2023-05-14T10:12:43.256Z"
   },
   {
    "duration": 977,
    "start_time": "2023-05-14T10:12:44.414Z"
   },
   {
    "duration": 3,
    "start_time": "2023-05-14T10:12:45.393Z"
   },
   {
    "duration": 74,
    "start_time": "2023-05-14T10:12:45.398Z"
   },
   {
    "duration": 58,
    "start_time": "2023-05-14T10:12:45.475Z"
   },
   {
    "duration": 72,
    "start_time": "2023-05-14T10:12:45.535Z"
   },
   {
    "duration": 4,
    "start_time": "2023-05-14T10:12:45.609Z"
   },
   {
    "duration": 448,
    "start_time": "2023-05-14T10:12:45.614Z"
   },
   {
    "duration": 110,
    "start_time": "2023-05-14T10:12:46.064Z"
   },
   {
    "duration": 10,
    "start_time": "2023-05-14T10:12:46.176Z"
   },
   {
    "duration": 13,
    "start_time": "2023-05-14T10:12:46.188Z"
   },
   {
    "duration": 10,
    "start_time": "2023-05-14T10:12:46.203Z"
   },
   {
    "duration": 62,
    "start_time": "2023-05-14T10:12:46.215Z"
   },
   {
    "duration": 28,
    "start_time": "2023-05-14T10:12:46.280Z"
   },
   {
    "duration": 27,
    "start_time": "2023-05-14T10:12:46.309Z"
   },
   {
    "duration": 22,
    "start_time": "2023-05-14T10:12:46.339Z"
   },
   {
    "duration": 25,
    "start_time": "2023-05-14T10:12:46.364Z"
   },
   {
    "duration": 5,
    "start_time": "2023-05-14T10:12:46.391Z"
   },
   {
    "duration": 5,
    "start_time": "2023-05-14T10:12:46.398Z"
   },
   {
    "duration": 104,
    "start_time": "2023-05-14T10:12:46.405Z"
   },
   {
    "duration": 0,
    "start_time": "2023-05-14T10:12:46.511Z"
   },
   {
    "duration": 1,
    "start_time": "2023-05-14T10:12:46.512Z"
   },
   {
    "duration": 0,
    "start_time": "2023-05-14T10:12:46.513Z"
   },
   {
    "duration": 4,
    "start_time": "2023-05-14T10:14:04.804Z"
   },
   {
    "duration": 17,
    "start_time": "2023-05-14T10:14:05.646Z"
   },
   {
    "duration": 54,
    "start_time": "2023-05-14T10:19:56.350Z"
   },
   {
    "duration": 12,
    "start_time": "2023-05-14T10:20:01.554Z"
   },
   {
    "duration": 22,
    "start_time": "2023-05-14T10:20:12.541Z"
   },
   {
    "duration": 13,
    "start_time": "2023-05-14T10:21:07.622Z"
   },
   {
    "duration": 60,
    "start_time": "2023-05-14T10:28:53.245Z"
   },
   {
    "duration": 6,
    "start_time": "2023-05-14T10:29:07.641Z"
   },
   {
    "duration": 16,
    "start_time": "2023-05-14T10:29:12.508Z"
   },
   {
    "duration": 5,
    "start_time": "2023-05-14T10:29:35.883Z"
   },
   {
    "duration": 18,
    "start_time": "2023-05-14T10:29:39.255Z"
   },
   {
    "duration": 5,
    "start_time": "2023-05-14T10:30:16.479Z"
   },
   {
    "duration": 1594,
    "start_time": "2023-05-14T10:30:22.043Z"
   },
   {
    "duration": 3,
    "start_time": "2023-05-14T10:31:55.288Z"
   },
   {
    "duration": 7,
    "start_time": "2023-05-14T10:32:06.114Z"
   },
   {
    "duration": 1547,
    "start_time": "2023-05-14T10:32:08.742Z"
   },
   {
    "duration": 6,
    "start_time": "2023-05-14T10:33:05.042Z"
   },
   {
    "duration": 1544,
    "start_time": "2023-05-14T10:33:07.837Z"
   },
   {
    "duration": 5,
    "start_time": "2023-05-14T10:33:37.519Z"
   },
   {
    "duration": 1450,
    "start_time": "2023-05-14T10:33:39.652Z"
   },
   {
    "duration": 7,
    "start_time": "2023-05-14T10:33:58.442Z"
   },
   {
    "duration": 1457,
    "start_time": "2023-05-14T10:34:00.524Z"
   },
   {
    "duration": 5,
    "start_time": "2023-05-14T11:01:27.750Z"
   },
   {
    "duration": 4,
    "start_time": "2023-05-14T11:01:29.098Z"
   },
   {
    "duration": 5,
    "start_time": "2023-05-14T11:01:34.784Z"
   },
   {
    "duration": 1469,
    "start_time": "2023-05-14T11:01:37.304Z"
   },
   {
    "duration": 7,
    "start_time": "2023-05-14T11:07:29.246Z"
   },
   {
    "duration": 1492,
    "start_time": "2023-05-14T11:07:30.996Z"
   },
   {
    "duration": 9,
    "start_time": "2023-05-14T11:07:43.214Z"
   },
   {
    "duration": 6,
    "start_time": "2023-05-14T11:07:55.094Z"
   },
   {
    "duration": 12,
    "start_time": "2023-05-14T11:07:56.988Z"
   },
   {
    "duration": 8,
    "start_time": "2023-05-14T11:08:22.861Z"
   },
   {
    "duration": 1550,
    "start_time": "2023-05-14T11:08:24.634Z"
   },
   {
    "duration": 8,
    "start_time": "2023-05-14T11:09:51.241Z"
   },
   {
    "duration": 1531,
    "start_time": "2023-05-14T11:09:52.007Z"
   },
   {
    "duration": 6,
    "start_time": "2023-05-14T11:10:12.539Z"
   },
   {
    "duration": 1502,
    "start_time": "2023-05-14T11:10:13.215Z"
   },
   {
    "duration": 6,
    "start_time": "2023-05-14T11:11:11.592Z"
   },
   {
    "duration": 1531,
    "start_time": "2023-05-14T11:11:13.057Z"
   },
   {
    "duration": 8,
    "start_time": "2023-05-14T11:13:03.017Z"
   },
   {
    "duration": 1409,
    "start_time": "2023-05-14T11:13:04.208Z"
   },
   {
    "duration": 7,
    "start_time": "2023-05-14T11:13:21.046Z"
   },
   {
    "duration": 1521,
    "start_time": "2023-05-14T11:13:22.337Z"
   },
   {
    "duration": 7,
    "start_time": "2023-05-14T11:14:08.636Z"
   },
   {
    "duration": 1452,
    "start_time": "2023-05-14T11:14:09.536Z"
   },
   {
    "duration": 10,
    "start_time": "2023-05-14T11:14:39.600Z"
   },
   {
    "duration": 6,
    "start_time": "2023-05-14T11:15:01.448Z"
   },
   {
    "duration": 1580,
    "start_time": "2023-05-14T11:15:02.092Z"
   },
   {
    "duration": 9,
    "start_time": "2023-05-14T11:15:20.412Z"
   },
   {
    "duration": 1514,
    "start_time": "2023-05-14T11:15:21.816Z"
   },
   {
    "duration": 7,
    "start_time": "2023-05-14T11:16:51.636Z"
   },
   {
    "duration": 1454,
    "start_time": "2023-05-14T11:16:52.242Z"
   },
   {
    "duration": 9,
    "start_time": "2023-05-14T11:17:27.600Z"
   },
   {
    "duration": 1470,
    "start_time": "2023-05-14T11:17:30.796Z"
   },
   {
    "duration": 1217,
    "start_time": "2023-05-14T16:07:42.370Z"
   },
   {
    "duration": 1613,
    "start_time": "2023-05-14T16:07:43.590Z"
   },
   {
    "duration": 6,
    "start_time": "2023-05-14T16:07:45.205Z"
   },
   {
    "duration": 105,
    "start_time": "2023-05-14T16:07:45.214Z"
   },
   {
    "duration": 75,
    "start_time": "2023-05-14T16:07:45.321Z"
   },
   {
    "duration": 81,
    "start_time": "2023-05-14T16:07:45.398Z"
   },
   {
    "duration": 4,
    "start_time": "2023-05-14T16:07:45.481Z"
   },
   {
    "duration": 298,
    "start_time": "2023-05-14T16:07:45.486Z"
   },
   {
    "duration": 99,
    "start_time": "2023-05-14T16:07:45.786Z"
   },
   {
    "duration": 20,
    "start_time": "2023-05-14T16:07:45.978Z"
   },
   {
    "duration": 9,
    "start_time": "2023-05-14T16:07:46.001Z"
   },
   {
    "duration": 14,
    "start_time": "2023-05-14T16:07:46.013Z"
   },
   {
    "duration": 20,
    "start_time": "2023-05-14T16:07:46.030Z"
   },
   {
    "duration": 18,
    "start_time": "2023-05-14T16:07:46.052Z"
   },
   {
    "duration": 13,
    "start_time": "2023-05-14T16:07:46.072Z"
   },
   {
    "duration": 10,
    "start_time": "2023-05-14T16:07:46.087Z"
   },
   {
    "duration": 19,
    "start_time": "2023-05-14T16:07:46.099Z"
   },
   {
    "duration": 13,
    "start_time": "2023-05-14T16:07:46.120Z"
   },
   {
    "duration": 13,
    "start_time": "2023-05-14T16:07:46.136Z"
   },
   {
    "duration": 1661,
    "start_time": "2023-05-14T16:07:46.152Z"
   },
   {
    "duration": 0,
    "start_time": "2023-05-14T16:07:47.816Z"
   },
   {
    "duration": 0,
    "start_time": "2023-05-14T16:07:47.817Z"
   },
   {
    "duration": 0,
    "start_time": "2023-05-14T16:07:47.818Z"
   },
   {
    "duration": 6,
    "start_time": "2023-05-14T16:08:23.619Z"
   },
   {
    "duration": 1559,
    "start_time": "2023-05-14T16:08:25.831Z"
   },
   {
    "duration": 26,
    "start_time": "2023-05-14T16:12:56.277Z"
   },
   {
    "duration": 33,
    "start_time": "2023-05-14T16:14:31.669Z"
   },
   {
    "duration": 4,
    "start_time": "2023-05-14T16:14:37.212Z"
   },
   {
    "duration": 11,
    "start_time": "2023-05-14T16:14:42.439Z"
   },
   {
    "duration": 4,
    "start_time": "2023-05-14T16:15:56.505Z"
   },
   {
    "duration": 24,
    "start_time": "2023-05-14T16:15:58.910Z"
   },
   {
    "duration": 4,
    "start_time": "2023-05-14T16:17:02.513Z"
   },
   {
    "duration": 10,
    "start_time": "2023-05-14T16:17:07.401Z"
   },
   {
    "duration": 3,
    "start_time": "2023-05-14T16:26:41.352Z"
   },
   {
    "duration": 3,
    "start_time": "2023-05-14T16:26:42.215Z"
   },
   {
    "duration": 2,
    "start_time": "2023-05-14T16:26:46.756Z"
   },
   {
    "duration": 4,
    "start_time": "2023-05-14T16:26:47.901Z"
   },
   {
    "duration": 3,
    "start_time": "2023-05-14T16:26:49.361Z"
   },
   {
    "duration": 6,
    "start_time": "2023-05-14T16:26:51.077Z"
   },
   {
    "duration": 7,
    "start_time": "2023-05-14T16:27:00.546Z"
   },
   {
    "duration": 4,
    "start_time": "2023-05-14T16:27:10.926Z"
   },
   {
    "duration": 3,
    "start_time": "2023-05-14T16:27:12.077Z"
   },
   {
    "duration": 23,
    "start_time": "2023-05-14T16:27:13.360Z"
   },
   {
    "duration": 4,
    "start_time": "2023-05-14T16:28:24.548Z"
   },
   {
    "duration": 4,
    "start_time": "2023-05-14T16:28:50.749Z"
   },
   {
    "duration": 25,
    "start_time": "2023-05-14T16:28:52.905Z"
   },
   {
    "duration": 1212,
    "start_time": "2023-05-14T16:29:26.951Z"
   },
   {
    "duration": 427,
    "start_time": "2023-05-14T16:29:28.165Z"
   },
   {
    "duration": 5,
    "start_time": "2023-05-14T16:29:28.594Z"
   },
   {
    "duration": 75,
    "start_time": "2023-05-14T16:29:28.600Z"
   },
   {
    "duration": 62,
    "start_time": "2023-05-14T16:29:28.678Z"
   },
   {
    "duration": 86,
    "start_time": "2023-05-14T16:29:28.742Z"
   },
   {
    "duration": 5,
    "start_time": "2023-05-14T16:29:28.830Z"
   },
   {
    "duration": 459,
    "start_time": "2023-05-14T16:29:28.837Z"
   },
   {
    "duration": 180,
    "start_time": "2023-05-14T16:29:29.298Z"
   },
   {
    "duration": 3,
    "start_time": "2023-05-14T16:29:29.479Z"
   },
   {
    "duration": 7,
    "start_time": "2023-05-14T16:29:29.484Z"
   },
   {
    "duration": 4,
    "start_time": "2023-05-14T16:29:29.493Z"
   },
   {
    "duration": 8,
    "start_time": "2023-05-14T16:29:29.499Z"
   },
   {
    "duration": 4,
    "start_time": "2023-05-14T16:29:29.510Z"
   },
   {
    "duration": 9,
    "start_time": "2023-05-14T16:29:29.516Z"
   },
   {
    "duration": 6,
    "start_time": "2023-05-14T16:29:29.527Z"
   },
   {
    "duration": 11,
    "start_time": "2023-05-14T16:29:29.534Z"
   },
   {
    "duration": 151,
    "start_time": "2023-05-14T16:29:29.547Z"
   },
   {
    "duration": 0,
    "start_time": "2023-05-14T16:29:29.700Z"
   },
   {
    "duration": 0,
    "start_time": "2023-05-14T16:29:29.701Z"
   },
   {
    "duration": 0,
    "start_time": "2023-05-14T16:29:29.702Z"
   },
   {
    "duration": 0,
    "start_time": "2023-05-14T16:29:29.704Z"
   },
   {
    "duration": 0,
    "start_time": "2023-05-14T16:29:29.705Z"
   },
   {
    "duration": 0,
    "start_time": "2023-05-14T16:29:29.706Z"
   },
   {
    "duration": 3,
    "start_time": "2023-05-14T16:30:29.276Z"
   },
   {
    "duration": 4,
    "start_time": "2023-05-14T16:30:30.369Z"
   },
   {
    "duration": 4,
    "start_time": "2023-05-14T16:30:31.593Z"
   },
   {
    "duration": 3,
    "start_time": "2023-05-14T16:30:32.820Z"
   },
   {
    "duration": 2,
    "start_time": "2023-05-14T16:30:34.166Z"
   },
   {
    "duration": 5,
    "start_time": "2023-05-14T16:30:35.606Z"
   },
   {
    "duration": 7,
    "start_time": "2023-05-14T16:30:50.811Z"
   },
   {
    "duration": 3,
    "start_time": "2023-05-14T16:31:02.502Z"
   },
   {
    "duration": 28,
    "start_time": "2023-05-14T16:31:06.745Z"
   },
   {
    "duration": 5,
    "start_time": "2023-05-14T16:32:30.089Z"
   },
   {
    "duration": 23,
    "start_time": "2023-05-14T16:32:39.390Z"
   },
   {
    "duration": 3,
    "start_time": "2023-05-14T16:34:03.291Z"
   },
   {
    "duration": 3,
    "start_time": "2023-05-14T16:34:04.396Z"
   },
   {
    "duration": 2,
    "start_time": "2023-05-14T16:34:05.508Z"
   },
   {
    "duration": 2,
    "start_time": "2023-05-14T16:34:06.846Z"
   },
   {
    "duration": 4,
    "start_time": "2023-05-14T16:34:08.043Z"
   },
   {
    "duration": 8,
    "start_time": "2023-05-14T16:34:10.392Z"
   },
   {
    "duration": 9,
    "start_time": "2023-05-14T16:34:11.486Z"
   },
   {
    "duration": 4,
    "start_time": "2023-05-14T16:34:17.107Z"
   },
   {
    "duration": 33,
    "start_time": "2023-05-14T16:34:18.980Z"
   },
   {
    "duration": 4,
    "start_time": "2023-05-14T16:34:56.879Z"
   },
   {
    "duration": 12,
    "start_time": "2023-05-14T16:34:59.780Z"
   },
   {
    "duration": 4,
    "start_time": "2023-05-14T16:35:38.797Z"
   },
   {
    "duration": 17,
    "start_time": "2023-05-14T16:35:40.686Z"
   },
   {
    "duration": 4,
    "start_time": "2023-05-14T16:40:08.379Z"
   },
   {
    "duration": 33,
    "start_time": "2023-05-14T16:40:11.393Z"
   },
   {
    "duration": 4,
    "start_time": "2023-05-14T16:42:18.406Z"
   },
   {
    "duration": 16,
    "start_time": "2023-05-14T16:42:24.361Z"
   },
   {
    "duration": 4,
    "start_time": "2023-05-14T16:42:35.850Z"
   },
   {
    "duration": 16,
    "start_time": "2023-05-14T16:42:37.771Z"
   },
   {
    "duration": 4,
    "start_time": "2023-05-14T16:43:54.659Z"
   },
   {
    "duration": 19,
    "start_time": "2023-05-14T16:43:58.456Z"
   },
   {
    "duration": 4,
    "start_time": "2023-05-14T16:44:29.540Z"
   },
   {
    "duration": 27,
    "start_time": "2023-05-14T16:44:31.834Z"
   },
   {
    "duration": 1303,
    "start_time": "2023-05-14T17:16:31.256Z"
   },
   {
    "duration": 427,
    "start_time": "2023-05-14T17:16:32.562Z"
   },
   {
    "duration": 4,
    "start_time": "2023-05-14T17:16:32.991Z"
   },
   {
    "duration": 81,
    "start_time": "2023-05-14T17:16:32.997Z"
   },
   {
    "duration": 60,
    "start_time": "2023-05-14T17:16:33.081Z"
   },
   {
    "duration": 87,
    "start_time": "2023-05-14T17:16:33.143Z"
   },
   {
    "duration": 5,
    "start_time": "2023-05-14T17:16:33.232Z"
   },
   {
    "duration": 438,
    "start_time": "2023-05-14T17:16:33.239Z"
   },
   {
    "duration": 104,
    "start_time": "2023-05-14T17:16:33.679Z"
   },
   {
    "duration": 93,
    "start_time": "2023-05-14T17:16:33.785Z"
   },
   {
    "duration": 17,
    "start_time": "2023-05-14T17:16:33.881Z"
   },
   {
    "duration": 19,
    "start_time": "2023-05-14T17:16:33.901Z"
   },
   {
    "duration": 12,
    "start_time": "2023-05-14T17:16:33.922Z"
   },
   {
    "duration": 19,
    "start_time": "2023-05-14T17:16:33.939Z"
   },
   {
    "duration": 23,
    "start_time": "2023-05-14T17:16:33.960Z"
   },
   {
    "duration": 34,
    "start_time": "2023-05-14T17:16:33.986Z"
   },
   {
    "duration": 31,
    "start_time": "2023-05-14T17:16:34.022Z"
   },
   {
    "duration": 8,
    "start_time": "2023-05-14T17:16:34.055Z"
   },
   {
    "duration": 19,
    "start_time": "2023-05-14T17:16:34.065Z"
   },
   {
    "duration": 158,
    "start_time": "2023-05-14T17:16:34.086Z"
   },
   {
    "duration": 0,
    "start_time": "2023-05-14T17:16:34.246Z"
   },
   {
    "duration": 0,
    "start_time": "2023-05-14T17:16:34.247Z"
   },
   {
    "duration": 0,
    "start_time": "2023-05-14T17:16:34.248Z"
   },
   {
    "duration": 0,
    "start_time": "2023-05-14T17:16:34.249Z"
   },
   {
    "duration": 0,
    "start_time": "2023-05-14T17:16:34.250Z"
   },
   {
    "duration": 0,
    "start_time": "2023-05-14T17:16:34.251Z"
   },
   {
    "duration": 4,
    "start_time": "2023-05-14T17:17:15.623Z"
   },
   {
    "duration": 32,
    "start_time": "2023-05-14T17:17:19.253Z"
   },
   {
    "duration": 13,
    "start_time": "2023-05-14T19:05:23.837Z"
   },
   {
    "duration": 58,
    "start_time": "2023-05-14T19:05:26.334Z"
   },
   {
    "duration": 7,
    "start_time": "2023-05-14T19:06:30.528Z"
   },
   {
    "duration": 10,
    "start_time": "2023-05-14T19:06:44.998Z"
   },
   {
    "duration": 5,
    "start_time": "2023-05-14T19:07:00.332Z"
   },
   {
    "duration": 11,
    "start_time": "2023-05-14T19:07:01.835Z"
   },
   {
    "duration": 1209,
    "start_time": "2023-05-14T19:07:16.036Z"
   },
   {
    "duration": 1030,
    "start_time": "2023-05-14T19:07:17.247Z"
   },
   {
    "duration": 5,
    "start_time": "2023-05-14T19:07:18.279Z"
   },
   {
    "duration": 59,
    "start_time": "2023-05-14T19:07:18.286Z"
   },
   {
    "duration": 66,
    "start_time": "2023-05-14T19:07:18.348Z"
   },
   {
    "duration": 71,
    "start_time": "2023-05-14T19:07:18.415Z"
   },
   {
    "duration": 5,
    "start_time": "2023-05-14T19:07:18.489Z"
   },
   {
    "duration": 297,
    "start_time": "2023-05-14T19:07:18.495Z"
   },
   {
    "duration": 184,
    "start_time": "2023-05-14T19:07:18.794Z"
   },
   {
    "duration": 2,
    "start_time": "2023-05-14T19:07:18.980Z"
   },
   {
    "duration": 4,
    "start_time": "2023-05-14T19:07:18.984Z"
   },
   {
    "duration": 7,
    "start_time": "2023-05-14T19:07:18.990Z"
   },
   {
    "duration": 4,
    "start_time": "2023-05-14T19:07:18.999Z"
   },
   {
    "duration": 4,
    "start_time": "2023-05-14T19:07:19.006Z"
   },
   {
    "duration": 7,
    "start_time": "2023-05-14T19:07:19.012Z"
   },
   {
    "duration": 7,
    "start_time": "2023-05-14T19:07:19.020Z"
   },
   {
    "duration": 48,
    "start_time": "2023-05-14T19:07:19.029Z"
   },
   {
    "duration": 180,
    "start_time": "2023-05-14T19:07:19.079Z"
   },
   {
    "duration": 0,
    "start_time": "2023-05-14T19:07:19.261Z"
   },
   {
    "duration": 0,
    "start_time": "2023-05-14T19:07:19.262Z"
   },
   {
    "duration": 0,
    "start_time": "2023-05-14T19:07:19.264Z"
   },
   {
    "duration": 0,
    "start_time": "2023-05-14T19:07:19.274Z"
   },
   {
    "duration": 0,
    "start_time": "2023-05-14T19:07:19.276Z"
   },
   {
    "duration": 0,
    "start_time": "2023-05-14T19:07:19.277Z"
   },
   {
    "duration": 3,
    "start_time": "2023-05-14T19:08:19.059Z"
   },
   {
    "duration": 1089,
    "start_time": "2023-05-14T19:08:44.963Z"
   },
   {
    "duration": 386,
    "start_time": "2023-05-14T19:08:46.054Z"
   },
   {
    "duration": 3,
    "start_time": "2023-05-14T19:08:46.442Z"
   },
   {
    "duration": 78,
    "start_time": "2023-05-14T19:08:46.447Z"
   },
   {
    "duration": 65,
    "start_time": "2023-05-14T19:08:46.528Z"
   },
   {
    "duration": 59,
    "start_time": "2023-05-14T19:08:46.595Z"
   },
   {
    "duration": 19,
    "start_time": "2023-05-14T19:08:46.656Z"
   },
   {
    "duration": 404,
    "start_time": "2023-05-14T19:08:46.677Z"
   },
   {
    "duration": 201,
    "start_time": "2023-05-14T19:08:47.084Z"
   },
   {
    "duration": 3,
    "start_time": "2023-05-14T19:08:47.287Z"
   },
   {
    "duration": 5,
    "start_time": "2023-05-14T19:08:47.291Z"
   },
   {
    "duration": 4,
    "start_time": "2023-05-14T19:08:47.298Z"
   },
   {
    "duration": 6,
    "start_time": "2023-05-14T19:08:47.304Z"
   },
   {
    "duration": 3,
    "start_time": "2023-05-14T19:08:47.313Z"
   },
   {
    "duration": 6,
    "start_time": "2023-05-14T19:08:47.318Z"
   },
   {
    "duration": 6,
    "start_time": "2023-05-14T19:08:47.326Z"
   },
   {
    "duration": 4,
    "start_time": "2023-05-14T19:08:47.334Z"
   },
   {
    "duration": 91,
    "start_time": "2023-05-14T19:08:47.376Z"
   },
   {
    "duration": 0,
    "start_time": "2023-05-14T19:08:47.475Z"
   },
   {
    "duration": 0,
    "start_time": "2023-05-14T19:08:47.476Z"
   },
   {
    "duration": 0,
    "start_time": "2023-05-14T19:08:47.477Z"
   },
   {
    "duration": 0,
    "start_time": "2023-05-14T19:08:47.478Z"
   },
   {
    "duration": 0,
    "start_time": "2023-05-14T19:08:47.479Z"
   },
   {
    "duration": 0,
    "start_time": "2023-05-14T19:08:47.480Z"
   },
   {
    "duration": 3,
    "start_time": "2023-05-14T19:09:12.692Z"
   },
   {
    "duration": 18,
    "start_time": "2023-05-14T19:09:15.177Z"
   },
   {
    "duration": 5,
    "start_time": "2023-05-14T19:09:54.079Z"
   },
   {
    "duration": 28,
    "start_time": "2023-05-14T19:09:57.134Z"
   },
   {
    "duration": 1239,
    "start_time": "2023-05-15T06:10:21.156Z"
   },
   {
    "duration": 907,
    "start_time": "2023-05-15T06:10:22.398Z"
   },
   {
    "duration": 3,
    "start_time": "2023-05-15T06:10:23.306Z"
   },
   {
    "duration": 62,
    "start_time": "2023-05-15T06:10:23.311Z"
   },
   {
    "duration": 53,
    "start_time": "2023-05-15T06:10:23.377Z"
   },
   {
    "duration": 78,
    "start_time": "2023-05-15T06:10:23.431Z"
   },
   {
    "duration": 4,
    "start_time": "2023-05-15T06:10:23.511Z"
   },
   {
    "duration": 272,
    "start_time": "2023-05-15T06:10:23.518Z"
   },
   {
    "duration": 193,
    "start_time": "2023-05-15T06:10:23.792Z"
   },
   {
    "duration": 3,
    "start_time": "2023-05-15T06:10:23.988Z"
   },
   {
    "duration": 5,
    "start_time": "2023-05-15T06:10:23.992Z"
   },
   {
    "duration": 5,
    "start_time": "2023-05-15T06:10:23.999Z"
   },
   {
    "duration": 5,
    "start_time": "2023-05-15T06:10:24.006Z"
   },
   {
    "duration": 3,
    "start_time": "2023-05-15T06:10:24.014Z"
   },
   {
    "duration": 9,
    "start_time": "2023-05-15T06:10:24.018Z"
   },
   {
    "duration": 11,
    "start_time": "2023-05-15T06:10:24.029Z"
   },
   {
    "duration": 36,
    "start_time": "2023-05-15T06:10:24.042Z"
   },
   {
    "duration": 136,
    "start_time": "2023-05-15T06:10:24.080Z"
   },
   {
    "duration": 0,
    "start_time": "2023-05-15T06:10:24.218Z"
   },
   {
    "duration": 0,
    "start_time": "2023-05-15T06:10:24.220Z"
   },
   {
    "duration": 0,
    "start_time": "2023-05-15T06:10:24.221Z"
   },
   {
    "duration": 0,
    "start_time": "2023-05-15T06:10:24.222Z"
   },
   {
    "duration": 0,
    "start_time": "2023-05-15T06:10:24.224Z"
   },
   {
    "duration": 0,
    "start_time": "2023-05-15T06:10:24.225Z"
   },
   {
    "duration": 4,
    "start_time": "2023-05-15T06:12:20.711Z"
   },
   {
    "duration": 20,
    "start_time": "2023-05-15T06:12:31.940Z"
   },
   {
    "duration": 1166,
    "start_time": "2023-05-15T06:16:01.466Z"
   },
   {
    "duration": 359,
    "start_time": "2023-05-15T06:16:02.634Z"
   },
   {
    "duration": 3,
    "start_time": "2023-05-15T06:16:02.995Z"
   },
   {
    "duration": 81,
    "start_time": "2023-05-15T06:16:03.001Z"
   },
   {
    "duration": 67,
    "start_time": "2023-05-15T06:16:03.084Z"
   },
   {
    "duration": 78,
    "start_time": "2023-05-15T06:16:03.153Z"
   },
   {
    "duration": 4,
    "start_time": "2023-05-15T06:16:03.233Z"
   },
   {
    "duration": 253,
    "start_time": "2023-05-15T06:16:03.239Z"
   },
   {
    "duration": 101,
    "start_time": "2023-05-15T06:16:03.578Z"
   },
   {
    "duration": 3,
    "start_time": "2023-05-15T06:16:03.681Z"
   },
   {
    "duration": 4,
    "start_time": "2023-05-15T06:16:03.686Z"
   },
   {
    "duration": 4,
    "start_time": "2023-05-15T06:16:03.692Z"
   },
   {
    "duration": 6,
    "start_time": "2023-05-15T06:16:03.699Z"
   },
   {
    "duration": 15,
    "start_time": "2023-05-15T06:16:03.708Z"
   },
   {
    "duration": 14,
    "start_time": "2023-05-15T06:16:03.725Z"
   },
   {
    "duration": 7,
    "start_time": "2023-05-15T06:16:03.741Z"
   },
   {
    "duration": 30,
    "start_time": "2023-05-15T06:16:03.750Z"
   },
   {
    "duration": 6,
    "start_time": "2023-05-15T06:16:03.782Z"
   },
   {
    "duration": 125,
    "start_time": "2023-05-15T06:16:03.789Z"
   },
   {
    "duration": 0,
    "start_time": "2023-05-15T06:16:03.916Z"
   },
   {
    "duration": 0,
    "start_time": "2023-05-15T06:16:03.917Z"
   },
   {
    "duration": 0,
    "start_time": "2023-05-15T06:16:03.918Z"
   },
   {
    "duration": 0,
    "start_time": "2023-05-15T06:16:03.919Z"
   },
   {
    "duration": 0,
    "start_time": "2023-05-15T06:16:03.920Z"
   },
   {
    "duration": 0,
    "start_time": "2023-05-15T06:16:03.922Z"
   },
   {
    "duration": 4,
    "start_time": "2023-05-15T06:18:17.365Z"
   },
   {
    "duration": 12,
    "start_time": "2023-05-15T06:18:21.464Z"
   },
   {
    "duration": 4,
    "start_time": "2023-05-15T06:18:47.253Z"
   },
   {
    "duration": 25,
    "start_time": "2023-05-15T06:18:50.360Z"
   },
   {
    "duration": 4,
    "start_time": "2023-05-15T06:19:59.007Z"
   },
   {
    "duration": 9,
    "start_time": "2023-05-15T06:20:05.654Z"
   },
   {
    "duration": 4,
    "start_time": "2023-05-15T06:21:25.650Z"
   },
   {
    "duration": 2,
    "start_time": "2023-05-15T06:21:29.680Z"
   },
   {
    "duration": 3,
    "start_time": "2023-05-15T06:21:34.060Z"
   },
   {
    "duration": 6,
    "start_time": "2023-05-15T06:21:34.829Z"
   },
   {
    "duration": 7,
    "start_time": "2023-05-15T06:21:36.021Z"
   },
   {
    "duration": 4,
    "start_time": "2023-05-15T06:21:44.859Z"
   },
   {
    "duration": 9,
    "start_time": "2023-05-15T06:21:47.315Z"
   },
   {
    "duration": 1229,
    "start_time": "2023-05-15T06:25:14.660Z"
   },
   {
    "duration": 393,
    "start_time": "2023-05-15T06:25:15.892Z"
   },
   {
    "duration": 4,
    "start_time": "2023-05-15T06:25:16.287Z"
   },
   {
    "duration": 84,
    "start_time": "2023-05-15T06:25:16.293Z"
   },
   {
    "duration": 84,
    "start_time": "2023-05-15T06:25:16.381Z"
   },
   {
    "duration": 82,
    "start_time": "2023-05-15T06:25:16.477Z"
   },
   {
    "duration": 6,
    "start_time": "2023-05-15T06:25:16.577Z"
   },
   {
    "duration": 398,
    "start_time": "2023-05-15T06:25:16.585Z"
   },
   {
    "duration": 191,
    "start_time": "2023-05-15T06:25:16.986Z"
   },
   {
    "duration": 3,
    "start_time": "2023-05-15T06:25:17.179Z"
   },
   {
    "duration": 19,
    "start_time": "2023-05-15T06:25:17.183Z"
   },
   {
    "duration": 10,
    "start_time": "2023-05-15T06:25:17.204Z"
   },
   {
    "duration": 21,
    "start_time": "2023-05-15T06:25:17.216Z"
   },
   {
    "duration": 8,
    "start_time": "2023-05-15T06:25:17.240Z"
   },
   {
    "duration": 6,
    "start_time": "2023-05-15T06:25:17.250Z"
   },
   {
    "duration": 8,
    "start_time": "2023-05-15T06:25:17.259Z"
   },
   {
    "duration": 11,
    "start_time": "2023-05-15T06:25:17.269Z"
   },
   {
    "duration": 9,
    "start_time": "2023-05-15T06:25:17.282Z"
   },
   {
    "duration": 4,
    "start_time": "2023-05-15T06:25:17.292Z"
   },
   {
    "duration": 6,
    "start_time": "2023-05-15T06:25:17.298Z"
   },
   {
    "duration": 178,
    "start_time": "2023-05-15T06:25:17.306Z"
   },
   {
    "duration": 0,
    "start_time": "2023-05-15T06:25:17.486Z"
   },
   {
    "duration": 0,
    "start_time": "2023-05-15T06:25:17.488Z"
   },
   {
    "duration": 0,
    "start_time": "2023-05-15T06:25:17.488Z"
   },
   {
    "duration": 6,
    "start_time": "2023-05-15T06:26:33.503Z"
   },
   {
    "duration": 4,
    "start_time": "2023-05-15T06:26:55.692Z"
   },
   {
    "duration": 10,
    "start_time": "2023-05-15T06:27:00.413Z"
   },
   {
    "duration": 60,
    "start_time": "2023-05-15T06:27:08.900Z"
   },
   {
    "duration": 4,
    "start_time": "2023-05-15T06:27:15.673Z"
   },
   {
    "duration": 6,
    "start_time": "2023-05-15T06:27:39.262Z"
   },
   {
    "duration": 34,
    "start_time": "2023-05-15T06:27:44.352Z"
   },
   {
    "duration": 9,
    "start_time": "2023-05-15T06:28:01.423Z"
   },
   {
    "duration": 33,
    "start_time": "2023-05-15T06:28:04.994Z"
   },
   {
    "duration": 6,
    "start_time": "2023-05-15T06:28:44.427Z"
   },
   {
    "duration": 35,
    "start_time": "2023-05-15T06:28:47.612Z"
   },
   {
    "duration": 6,
    "start_time": "2023-05-15T06:30:28.065Z"
   },
   {
    "duration": 30,
    "start_time": "2023-05-15T06:30:33.725Z"
   },
   {
    "duration": 6,
    "start_time": "2023-05-15T06:31:51.050Z"
   },
   {
    "duration": 18,
    "start_time": "2023-05-15T06:31:56.071Z"
   },
   {
    "duration": 6,
    "start_time": "2023-05-15T06:32:17.002Z"
   },
   {
    "duration": 24,
    "start_time": "2023-05-15T06:32:19.937Z"
   },
   {
    "duration": 7,
    "start_time": "2023-05-15T06:35:35.129Z"
   },
   {
    "duration": 23,
    "start_time": "2023-05-15T06:35:43.780Z"
   },
   {
    "duration": 6,
    "start_time": "2023-05-15T06:37:23.455Z"
   },
   {
    "duration": 29,
    "start_time": "2023-05-15T06:37:39.814Z"
   },
   {
    "duration": 6,
    "start_time": "2023-05-15T06:38:43.770Z"
   },
   {
    "duration": 22,
    "start_time": "2023-05-15T06:38:47.751Z"
   },
   {
    "duration": 6,
    "start_time": "2023-05-15T07:01:16.188Z"
   },
   {
    "duration": 14,
    "start_time": "2023-05-15T07:01:21.926Z"
   },
   {
    "duration": 6,
    "start_time": "2023-05-15T07:01:34.714Z"
   },
   {
    "duration": 13,
    "start_time": "2023-05-15T07:01:41.824Z"
   },
   {
    "duration": 7,
    "start_time": "2023-05-15T07:02:40.754Z"
   },
   {
    "duration": 27,
    "start_time": "2023-05-15T07:02:47.040Z"
   },
   {
    "duration": 4,
    "start_time": "2023-05-15T07:03:57.932Z"
   },
   {
    "duration": 7,
    "start_time": "2023-05-15T07:04:02.079Z"
   },
   {
    "duration": 7,
    "start_time": "2023-05-15T07:04:14.316Z"
   },
   {
    "duration": 31,
    "start_time": "2023-05-15T07:04:17.803Z"
   },
   {
    "duration": 3,
    "start_time": "2023-05-15T07:05:25.653Z"
   },
   {
    "duration": 9,
    "start_time": "2023-05-15T07:05:27.405Z"
   },
   {
    "duration": 4,
    "start_time": "2023-05-15T07:09:24.647Z"
   },
   {
    "duration": 27,
    "start_time": "2023-05-15T07:09:28.918Z"
   },
   {
    "duration": 4,
    "start_time": "2023-05-15T07:10:38.422Z"
   },
   {
    "duration": 10,
    "start_time": "2023-05-15T07:10:41.087Z"
   },
   {
    "duration": 4,
    "start_time": "2023-05-15T07:10:46.880Z"
   },
   {
    "duration": 6,
    "start_time": "2023-05-15T07:10:47.732Z"
   },
   {
    "duration": 37,
    "start_time": "2023-05-15T07:10:52.360Z"
   },
   {
    "duration": 5,
    "start_time": "2023-05-15T07:18:11.893Z"
   },
   {
    "duration": 15,
    "start_time": "2023-05-15T07:18:29.288Z"
   },
   {
    "duration": 6,
    "start_time": "2023-05-15T07:18:56.939Z"
   },
   {
    "duration": 30,
    "start_time": "2023-05-15T07:19:02.810Z"
   },
   {
    "duration": 11,
    "start_time": "2023-05-15T08:45:04.456Z"
   },
   {
    "duration": 7,
    "start_time": "2023-05-15T08:45:22.117Z"
   },
   {
    "duration": 8,
    "start_time": "2023-05-15T08:46:19.051Z"
   },
   {
    "duration": 7,
    "start_time": "2023-05-15T08:46:40.342Z"
   },
   {
    "duration": 23,
    "start_time": "2023-05-15T08:47:33.336Z"
   },
   {
    "duration": 21,
    "start_time": "2023-05-15T08:47:44.421Z"
   },
   {
    "duration": 22,
    "start_time": "2023-05-15T08:50:36.097Z"
   },
   {
    "duration": 7,
    "start_time": "2023-05-15T08:52:38.858Z"
   },
   {
    "duration": 7,
    "start_time": "2023-05-15T08:53:41.109Z"
   },
   {
    "duration": 8,
    "start_time": "2023-05-15T08:57:17.358Z"
   },
   {
    "duration": 8,
    "start_time": "2023-05-15T08:57:35.623Z"
   },
   {
    "duration": 21,
    "start_time": "2023-05-15T09:02:24.688Z"
   },
   {
    "duration": 17,
    "start_time": "2023-05-15T09:04:00.014Z"
   },
   {
    "duration": 8,
    "start_time": "2023-05-15T09:04:24.791Z"
   },
   {
    "duration": 19,
    "start_time": "2023-05-15T09:06:07.992Z"
   },
   {
    "duration": 27,
    "start_time": "2023-05-15T09:06:18.500Z"
   },
   {
    "duration": 17,
    "start_time": "2023-05-15T09:06:30.740Z"
   },
   {
    "duration": 20,
    "start_time": "2023-05-15T09:07:03.823Z"
   },
   {
    "duration": 2360,
    "start_time": "2023-05-15T09:08:15.794Z"
   },
   {
    "duration": 16,
    "start_time": "2023-05-15T09:09:01.647Z"
   },
   {
    "duration": 9,
    "start_time": "2023-05-15T09:10:44.230Z"
   },
   {
    "duration": 8,
    "start_time": "2023-05-15T09:10:52.895Z"
   },
   {
    "duration": 17,
    "start_time": "2023-05-15T09:11:51.556Z"
   },
   {
    "duration": 11,
    "start_time": "2023-05-15T09:12:05.556Z"
   },
   {
    "duration": 9,
    "start_time": "2023-05-15T09:12:48.196Z"
   },
   {
    "duration": 19,
    "start_time": "2023-05-15T09:13:26.118Z"
   },
   {
    "duration": 205,
    "start_time": "2023-05-15T09:14:34.600Z"
   },
   {
    "duration": 161,
    "start_time": "2023-05-15T09:14:46.610Z"
   },
   {
    "duration": 11,
    "start_time": "2023-05-15T09:15:01.235Z"
   },
   {
    "duration": 93,
    "start_time": "2023-05-15T09:15:53.482Z"
   },
   {
    "duration": 6,
    "start_time": "2023-05-15T09:16:37.502Z"
   },
   {
    "duration": 8,
    "start_time": "2023-05-15T09:16:59.637Z"
   },
   {
    "duration": 5,
    "start_time": "2023-05-15T09:17:29.622Z"
   },
   {
    "duration": 9,
    "start_time": "2023-05-15T09:17:45.059Z"
   },
   {
    "duration": 7,
    "start_time": "2023-05-15T09:19:09.263Z"
   },
   {
    "duration": 22,
    "start_time": "2023-05-15T09:20:15.495Z"
   },
   {
    "duration": 12,
    "start_time": "2023-05-15T09:20:23.749Z"
   },
   {
    "duration": 6,
    "start_time": "2023-05-15T09:20:27.339Z"
   },
   {
    "duration": 6,
    "start_time": "2023-05-15T09:20:58.093Z"
   },
   {
    "duration": 5,
    "start_time": "2023-05-15T09:21:28.939Z"
   },
   {
    "duration": 13,
    "start_time": "2023-05-15T09:21:39.583Z"
   },
   {
    "duration": 9,
    "start_time": "2023-05-15T09:21:48.123Z"
   },
   {
    "duration": 8,
    "start_time": "2023-05-15T09:21:57.355Z"
   },
   {
    "duration": 12,
    "start_time": "2023-05-15T09:22:17.615Z"
   },
   {
    "duration": 8,
    "start_time": "2023-05-15T09:22:47.001Z"
   },
   {
    "duration": 7,
    "start_time": "2023-05-15T09:23:58.152Z"
   },
   {
    "duration": 33,
    "start_time": "2023-05-15T09:24:02.052Z"
   },
   {
    "duration": 6,
    "start_time": "2023-05-15T09:24:35.601Z"
   },
   {
    "duration": 7,
    "start_time": "2023-05-15T09:24:41.380Z"
   },
   {
    "duration": 1338,
    "start_time": "2023-05-15T09:24:46.389Z"
   },
   {
    "duration": 1269,
    "start_time": "2023-05-15T10:40:39.596Z"
   },
   {
    "duration": 5,
    "start_time": "2023-05-15T10:42:08.541Z"
   },
   {
    "duration": 5,
    "start_time": "2023-05-15T10:42:25.138Z"
   },
   {
    "duration": 1110,
    "start_time": "2023-05-15T10:42:31.992Z"
   },
   {
    "duration": 6,
    "start_time": "2023-05-15T10:42:49.508Z"
   },
   {
    "duration": 1173,
    "start_time": "2023-05-15T10:42:54.482Z"
   },
   {
    "duration": 5,
    "start_time": "2023-05-15T10:49:11.857Z"
   },
   {
    "duration": 5,
    "start_time": "2023-05-15T10:49:18.967Z"
   },
   {
    "duration": 1204,
    "start_time": "2023-05-15T10:49:20.675Z"
   },
   {
    "duration": 5,
    "start_time": "2023-05-15T10:49:44.602Z"
   },
   {
    "duration": 1287,
    "start_time": "2023-05-15T10:49:46.845Z"
   },
   {
    "duration": 358,
    "start_time": "2023-05-15T10:49:48.306Z"
   },
   {
    "duration": 6,
    "start_time": "2023-05-15T10:50:15.052Z"
   },
   {
    "duration": 1348,
    "start_time": "2023-05-15T10:50:16.545Z"
   },
   {
    "duration": 114,
    "start_time": "2023-05-15T10:50:17.901Z"
   },
   {
    "duration": 6,
    "start_time": "2023-05-15T10:51:15.609Z"
   },
   {
    "duration": 1190,
    "start_time": "2023-05-15T10:51:16.677Z"
   },
   {
    "duration": 130,
    "start_time": "2023-05-15T10:51:17.877Z"
   },
   {
    "duration": 155,
    "start_time": "2023-05-15T10:51:18.163Z"
   },
   {
    "duration": 8,
    "start_time": "2023-05-15T10:59:46.690Z"
   },
   {
    "duration": 9,
    "start_time": "2023-05-15T11:00:39.939Z"
   },
   {
    "duration": 1256,
    "start_time": "2023-05-15T11:00:41.198Z"
   },
   {
    "duration": 8,
    "start_time": "2023-05-15T11:00:55.464Z"
   },
   {
    "duration": 1364,
    "start_time": "2023-05-15T11:00:56.626Z"
   },
   {
    "duration": 103,
    "start_time": "2023-05-15T11:02:16.363Z"
   },
   {
    "duration": 251,
    "start_time": "2023-05-15T11:02:36.559Z"
   },
   {
    "duration": 190,
    "start_time": "2023-05-15T11:02:54.550Z"
   },
   {
    "duration": 7,
    "start_time": "2023-05-15T11:03:06.072Z"
   },
   {
    "duration": 1212,
    "start_time": "2023-05-15T11:03:08.285Z"
   },
   {
    "duration": 5,
    "start_time": "2023-05-15T11:04:07.023Z"
   },
   {
    "duration": 1183,
    "start_time": "2023-05-15T11:04:08.688Z"
   },
   {
    "duration": 7,
    "start_time": "2023-05-15T11:04:31.710Z"
   },
   {
    "duration": 1219,
    "start_time": "2023-05-15T11:04:32.877Z"
   },
   {
    "duration": 131,
    "start_time": "2023-05-15T11:04:48.827Z"
   },
   {
    "duration": 5,
    "start_time": "2023-05-15T11:04:57.148Z"
   },
   {
    "duration": 1178,
    "start_time": "2023-05-15T11:04:58.649Z"
   },
   {
    "duration": 0,
    "start_time": "2023-05-15T11:04:59.829Z"
   },
   {
    "duration": 7,
    "start_time": "2023-05-15T11:05:24.279Z"
   },
   {
    "duration": 1237,
    "start_time": "2023-05-15T11:05:25.718Z"
   },
   {
    "duration": 5,
    "start_time": "2023-05-15T11:05:46.914Z"
   },
   {
    "duration": 1109,
    "start_time": "2023-05-15T11:05:50.358Z"
   },
   {
    "duration": 7,
    "start_time": "2023-05-15T11:05:59.412Z"
   },
   {
    "duration": 1198,
    "start_time": "2023-05-15T11:06:01.237Z"
   },
   {
    "duration": 0,
    "start_time": "2023-05-15T11:06:02.437Z"
   },
   {
    "duration": 5,
    "start_time": "2023-05-15T11:06:29.267Z"
   },
   {
    "duration": 1227,
    "start_time": "2023-05-15T11:06:30.667Z"
   },
   {
    "duration": 5,
    "start_time": "2023-05-15T11:06:59.550Z"
   },
   {
    "duration": 1361,
    "start_time": "2023-05-15T11:07:00.466Z"
   },
   {
    "duration": 69,
    "start_time": "2023-05-15T11:07:01.829Z"
   },
   {
    "duration": 1231,
    "start_time": "2023-05-15T11:07:37.620Z"
   },
   {
    "duration": 1215,
    "start_time": "2023-05-15T11:08:29.903Z"
   },
   {
    "duration": 1157,
    "start_time": "2023-05-15T11:09:23.800Z"
   },
   {
    "duration": 29,
    "start_time": "2023-05-15T11:22:31.003Z"
   },
   {
    "duration": 60,
    "start_time": "2023-05-15T11:23:00.606Z"
   },
   {
    "duration": 15,
    "start_time": "2023-05-15T11:23:16.304Z"
   },
   {
    "duration": 1375,
    "start_time": "2023-05-15T11:48:11.842Z"
   },
   {
    "duration": 547,
    "start_time": "2023-05-15T11:48:13.218Z"
   },
   {
    "duration": 7,
    "start_time": "2023-05-15T11:48:13.767Z"
   },
   {
    "duration": 84,
    "start_time": "2023-05-15T11:48:13.778Z"
   },
   {
    "duration": 75,
    "start_time": "2023-05-15T11:48:13.864Z"
   },
   {
    "duration": 78,
    "start_time": "2023-05-15T11:48:13.945Z"
   },
   {
    "duration": 8,
    "start_time": "2023-05-15T11:48:14.028Z"
   },
   {
    "duration": 400,
    "start_time": "2023-05-15T11:48:14.038Z"
   },
   {
    "duration": 106,
    "start_time": "2023-05-15T11:48:14.448Z"
   },
   {
    "duration": 4,
    "start_time": "2023-05-15T11:48:14.557Z"
   },
   {
    "duration": 5,
    "start_time": "2023-05-15T11:48:14.583Z"
   },
   {
    "duration": 30,
    "start_time": "2023-05-15T11:48:14.590Z"
   },
   {
    "duration": 13,
    "start_time": "2023-05-15T11:48:14.622Z"
   },
   {
    "duration": 3,
    "start_time": "2023-05-15T11:48:14.638Z"
   },
   {
    "duration": 6,
    "start_time": "2023-05-15T11:48:14.643Z"
   },
   {
    "duration": 7,
    "start_time": "2023-05-15T11:48:14.651Z"
   },
   {
    "duration": 8,
    "start_time": "2023-05-15T11:48:14.660Z"
   },
   {
    "duration": 6,
    "start_time": "2023-05-15T11:48:14.670Z"
   },
   {
    "duration": 12,
    "start_time": "2023-05-15T11:48:14.684Z"
   },
   {
    "duration": 1764,
    "start_time": "2023-05-15T11:48:14.701Z"
   },
   {
    "duration": 1735,
    "start_time": "2023-05-15T11:48:16.467Z"
   },
   {
    "duration": 1710,
    "start_time": "2023-05-15T11:48:18.208Z"
   },
   {
    "duration": 4363,
    "start_time": "2023-05-15T15:14:18.493Z"
   },
   {
    "duration": 715,
    "start_time": "2023-05-15T15:14:22.858Z"
   },
   {
    "duration": 4,
    "start_time": "2023-05-15T15:14:23.574Z"
   },
   {
    "duration": 57,
    "start_time": "2023-05-15T15:14:23.579Z"
   },
   {
    "duration": 54,
    "start_time": "2023-05-15T15:14:23.638Z"
   },
   {
    "duration": 51,
    "start_time": "2023-05-15T15:14:23.694Z"
   },
   {
    "duration": 4,
    "start_time": "2023-05-15T15:14:23.747Z"
   },
   {
    "duration": 335,
    "start_time": "2023-05-15T15:14:23.752Z"
   },
   {
    "duration": 104,
    "start_time": "2023-05-15T15:14:24.089Z"
   },
   {
    "duration": 90,
    "start_time": "2023-05-15T15:14:24.195Z"
   },
   {
    "duration": 12,
    "start_time": "2023-05-15T15:14:24.287Z"
   },
   {
    "duration": 18,
    "start_time": "2023-05-15T15:14:24.300Z"
   },
   {
    "duration": 21,
    "start_time": "2023-05-15T15:14:24.320Z"
   },
   {
    "duration": 29,
    "start_time": "2023-05-15T15:14:24.344Z"
   },
   {
    "duration": 14,
    "start_time": "2023-05-15T15:14:24.375Z"
   },
   {
    "duration": 6,
    "start_time": "2023-05-15T15:14:24.391Z"
   },
   {
    "duration": 9,
    "start_time": "2023-05-15T15:14:24.398Z"
   },
   {
    "duration": 12,
    "start_time": "2023-05-15T15:14:24.408Z"
   },
   {
    "duration": 9,
    "start_time": "2023-05-15T15:14:24.421Z"
   },
   {
    "duration": 991,
    "start_time": "2023-05-15T15:14:24.432Z"
   },
   {
    "duration": 997,
    "start_time": "2023-05-15T15:14:25.425Z"
   },
   {
    "duration": 926,
    "start_time": "2023-05-15T15:14:26.423Z"
   },
   {
    "duration": 3,
    "start_time": "2023-05-15T15:14:39.023Z"
   },
   {
    "duration": 3,
    "start_time": "2023-05-15T15:14:40.067Z"
   },
   {
    "duration": 6,
    "start_time": "2023-05-15T15:14:40.254Z"
   },
   {
    "duration": 997,
    "start_time": "2023-05-15T15:14:40.713Z"
   },
   {
    "duration": 1012,
    "start_time": "2023-05-15T15:14:41.712Z"
   },
   {
    "duration": 987,
    "start_time": "2023-05-15T15:14:42.725Z"
   },
   {
    "duration": 5,
    "start_time": "2023-05-15T15:15:11.118Z"
   },
   {
    "duration": 966,
    "start_time": "2023-05-15T15:15:11.190Z"
   },
   {
    "duration": 997,
    "start_time": "2023-05-15T15:15:12.158Z"
   },
   {
    "duration": 979,
    "start_time": "2023-05-15T15:15:13.156Z"
   },
   {
    "duration": 5,
    "start_time": "2023-05-15T15:15:25.392Z"
   },
   {
    "duration": 1158,
    "start_time": "2023-05-15T15:15:25.850Z"
   },
   {
    "duration": 5,
    "start_time": "2023-05-15T15:15:28.809Z"
   },
   {
    "duration": 964,
    "start_time": "2023-05-15T15:15:29.021Z"
   },
   {
    "duration": 1002,
    "start_time": "2023-05-15T15:15:29.987Z"
   },
   {
    "duration": 5,
    "start_time": "2023-05-15T15:15:31.459Z"
   },
   {
    "duration": 1043,
    "start_time": "2023-05-15T15:15:31.651Z"
   },
   {
    "duration": 1025,
    "start_time": "2023-05-15T15:15:32.696Z"
   },
   {
    "duration": 1004,
    "start_time": "2023-05-15T15:15:33.722Z"
   },
   {
    "duration": 5,
    "start_time": "2023-05-15T15:15:42.643Z"
   },
   {
    "duration": 970,
    "start_time": "2023-05-15T15:15:42.819Z"
   },
   {
    "duration": 1008,
    "start_time": "2023-05-15T15:15:43.791Z"
   },
   {
    "duration": 996,
    "start_time": "2023-05-15T15:15:44.801Z"
   },
   {
    "duration": 4,
    "start_time": "2023-05-15T15:15:53.030Z"
   },
   {
    "duration": 3,
    "start_time": "2023-05-15T15:15:53.669Z"
   },
   {
    "duration": 6,
    "start_time": "2023-05-15T15:15:53.853Z"
   },
   {
    "duration": 1002,
    "start_time": "2023-05-15T15:15:54.030Z"
   },
   {
    "duration": 977,
    "start_time": "2023-05-15T15:15:55.034Z"
   },
   {
    "duration": 1051,
    "start_time": "2023-05-15T15:15:56.012Z"
   },
   {
    "duration": 5,
    "start_time": "2023-05-15T15:23:24.759Z"
   },
   {
    "duration": 1022,
    "start_time": "2023-05-15T15:23:25.504Z"
   },
   {
    "duration": 6,
    "start_time": "2023-05-15T15:23:32.138Z"
   },
   {
    "duration": 996,
    "start_time": "2023-05-15T15:23:32.706Z"
   },
   {
    "duration": 6,
    "start_time": "2023-05-15T15:23:37.162Z"
   },
   {
    "duration": 964,
    "start_time": "2023-05-15T15:23:37.707Z"
   },
   {
    "duration": 5,
    "start_time": "2023-05-15T15:23:43.389Z"
   },
   {
    "duration": 983,
    "start_time": "2023-05-15T15:23:46.221Z"
   },
   {
    "duration": 5,
    "start_time": "2023-05-15T15:23:50.221Z"
   },
   {
    "duration": 1054,
    "start_time": "2023-05-15T15:23:50.766Z"
   },
   {
    "duration": 0,
    "start_time": "2023-05-15T15:23:51.822Z"
   },
   {
    "duration": 7,
    "start_time": "2023-05-15T15:23:55.467Z"
   },
   {
    "duration": 1035,
    "start_time": "2023-05-15T15:23:56.122Z"
   },
   {
    "duration": 5,
    "start_time": "2023-05-15T15:23:59.968Z"
   },
   {
    "duration": 949,
    "start_time": "2023-05-15T15:24:00.504Z"
   },
   {
    "duration": 0,
    "start_time": "2023-05-15T15:24:01.455Z"
   },
   {
    "duration": 0,
    "start_time": "2023-05-15T15:24:01.456Z"
   },
   {
    "duration": 7,
    "start_time": "2023-05-15T15:24:06.150Z"
   },
   {
    "duration": 978,
    "start_time": "2023-05-15T15:24:06.698Z"
   },
   {
    "duration": 0,
    "start_time": "2023-05-15T15:24:07.678Z"
   },
   {
    "duration": 5,
    "start_time": "2023-05-15T15:24:10.130Z"
   },
   {
    "duration": 940,
    "start_time": "2023-05-15T15:24:10.640Z"
   },
   {
    "duration": 0,
    "start_time": "2023-05-15T15:24:11.582Z"
   },
   {
    "duration": 5,
    "start_time": "2023-05-15T15:24:13.197Z"
   },
   {
    "duration": 951,
    "start_time": "2023-05-15T15:24:13.715Z"
   },
   {
    "duration": 0,
    "start_time": "2023-05-15T15:24:14.668Z"
   },
   {
    "duration": 6,
    "start_time": "2023-05-15T15:24:21.682Z"
   },
   {
    "duration": 973,
    "start_time": "2023-05-15T15:24:22.214Z"
   },
   {
    "duration": 961,
    "start_time": "2023-05-15T15:24:23.189Z"
   },
   {
    "duration": 966,
    "start_time": "2023-05-15T15:24:27.405Z"
   },
   {
    "duration": 9,
    "start_time": "2023-05-15T15:24:32.376Z"
   },
   {
    "duration": 961,
    "start_time": "2023-05-15T15:24:32.994Z"
   },
   {
    "duration": 1003,
    "start_time": "2023-05-15T15:24:33.957Z"
   },
   {
    "duration": 8,
    "start_time": "2023-05-15T15:24:45.203Z"
   },
   {
    "duration": 1138,
    "start_time": "2023-05-15T15:24:45.745Z"
   },
   {
    "duration": 1100,
    "start_time": "2023-05-15T15:24:46.885Z"
   },
   {
    "duration": 3,
    "start_time": "2023-05-15T15:24:52.654Z"
   },
   {
    "duration": 3,
    "start_time": "2023-05-15T15:24:53.588Z"
   },
   {
    "duration": 5,
    "start_time": "2023-05-15T15:24:53.758Z"
   },
   {
    "duration": 1047,
    "start_time": "2023-05-15T15:24:54.286Z"
   },
   {
    "duration": 1037,
    "start_time": "2023-05-15T15:24:55.335Z"
   },
   {
    "duration": 1063,
    "start_time": "2023-05-15T15:24:56.374Z"
   },
   {
    "duration": 3,
    "start_time": "2023-05-15T15:28:54.490Z"
   },
   {
    "duration": 3,
    "start_time": "2023-05-15T15:28:55.397Z"
   },
   {
    "duration": 6,
    "start_time": "2023-05-15T15:28:55.548Z"
   },
   {
    "duration": 999,
    "start_time": "2023-05-15T15:28:56.053Z"
   },
   {
    "duration": 1011,
    "start_time": "2023-05-15T15:28:57.054Z"
   },
   {
    "duration": 980,
    "start_time": "2023-05-15T15:28:58.066Z"
   },
   {
    "duration": 86,
    "start_time": "2023-05-15T16:23:11.543Z"
   },
   {
    "duration": 1234,
    "start_time": "2023-05-15T16:23:27.034Z"
   },
   {
    "duration": 2241,
    "start_time": "2023-05-15T16:23:28.270Z"
   },
   {
    "duration": 5,
    "start_time": "2023-05-15T16:23:30.514Z"
   },
   {
    "duration": 135,
    "start_time": "2023-05-15T16:23:30.522Z"
   },
   {
    "duration": 99,
    "start_time": "2023-05-15T16:23:30.660Z"
   },
   {
    "duration": 120,
    "start_time": "2023-05-15T16:23:30.762Z"
   },
   {
    "duration": 6,
    "start_time": "2023-05-15T16:23:30.885Z"
   },
   {
    "duration": 378,
    "start_time": "2023-05-15T16:23:30.893Z"
   },
   {
    "duration": 102,
    "start_time": "2023-05-15T16:23:31.277Z"
   },
   {
    "duration": 78,
    "start_time": "2023-05-15T16:23:31.383Z"
   },
   {
    "duration": 31,
    "start_time": "2023-05-15T16:23:31.463Z"
   },
   {
    "duration": 10,
    "start_time": "2023-05-15T16:23:31.497Z"
   },
   {
    "duration": 14,
    "start_time": "2023-05-15T16:23:31.510Z"
   },
   {
    "duration": 4,
    "start_time": "2023-05-15T16:23:31.526Z"
   },
   {
    "duration": 30,
    "start_time": "2023-05-15T16:23:31.533Z"
   },
   {
    "duration": 11,
    "start_time": "2023-05-15T16:23:31.566Z"
   },
   {
    "duration": 31,
    "start_time": "2023-05-15T16:23:31.579Z"
   },
   {
    "duration": 43,
    "start_time": "2023-05-15T16:23:31.613Z"
   },
   {
    "duration": 21,
    "start_time": "2023-05-15T16:23:31.658Z"
   },
   {
    "duration": 1445,
    "start_time": "2023-05-15T16:23:31.682Z"
   },
   {
    "duration": 1729,
    "start_time": "2023-05-15T16:23:33.130Z"
   },
   {
    "duration": 1518,
    "start_time": "2023-05-15T16:23:34.862Z"
   },
   {
    "duration": 9,
    "start_time": "2023-05-15T16:24:33.664Z"
   },
   {
    "duration": 10,
    "start_time": "2023-05-15T16:24:37.090Z"
   },
   {
    "duration": 1998,
    "start_time": "2023-05-15T16:24:40.539Z"
   },
   {
    "duration": 10,
    "start_time": "2023-05-15T16:25:19.848Z"
   },
   {
    "duration": 1755,
    "start_time": "2023-05-15T16:25:22.337Z"
   },
   {
    "duration": 2098,
    "start_time": "2023-05-15T16:25:24.149Z"
   },
   {
    "duration": 1849,
    "start_time": "2023-05-15T16:25:26.250Z"
   },
   {
    "duration": 62,
    "start_time": "2023-05-15T16:34:58.204Z"
   },
   {
    "duration": 6,
    "start_time": "2023-05-15T17:20:34.624Z"
   },
   {
    "duration": 5,
    "start_time": "2023-05-15T17:20:43.181Z"
   },
   {
    "duration": 9,
    "start_time": "2023-05-15T17:20:44.307Z"
   },
   {
    "duration": 227,
    "start_time": "2023-05-15T17:20:48.833Z"
   },
   {
    "duration": 4,
    "start_time": "2023-05-15T17:22:14.340Z"
   },
   {
    "duration": 4,
    "start_time": "2023-05-15T17:22:16.995Z"
   },
   {
    "duration": 6,
    "start_time": "2023-05-15T17:22:17.434Z"
   },
   {
    "duration": 23,
    "start_time": "2023-05-15T17:22:20.982Z"
   },
   {
    "duration": 6,
    "start_time": "2023-05-15T17:23:39.351Z"
   },
   {
    "duration": 4,
    "start_time": "2023-05-15T17:23:45.412Z"
   },
   {
    "duration": 7,
    "start_time": "2023-05-15T17:23:45.846Z"
   },
   {
    "duration": 32,
    "start_time": "2023-05-15T17:23:48.807Z"
   },
   {
    "duration": 5,
    "start_time": "2023-05-15T17:25:06.165Z"
   },
   {
    "duration": 19,
    "start_time": "2023-05-15T17:25:10.686Z"
   },
   {
    "duration": 4,
    "start_time": "2023-05-15T17:25:35.599Z"
   },
   {
    "duration": 27,
    "start_time": "2023-05-15T17:25:42.271Z"
   },
   {
    "duration": 4,
    "start_time": "2023-05-15T17:29:27.277Z"
   },
   {
    "duration": 26,
    "start_time": "2023-05-15T17:29:33.256Z"
   },
   {
    "duration": 4,
    "start_time": "2023-05-15T17:29:56.143Z"
   },
   {
    "duration": 1386,
    "start_time": "2023-05-15T17:30:05.548Z"
   },
   {
    "duration": 1335,
    "start_time": "2023-05-15T17:30:11.255Z"
   },
   {
    "duration": 1290,
    "start_time": "2023-05-15T17:30:12.761Z"
   },
   {
    "duration": 5,
    "start_time": "2023-05-15T17:31:18.302Z"
   },
   {
    "duration": 1355,
    "start_time": "2023-05-15T17:31:22.440Z"
   },
   {
    "duration": 5,
    "start_time": "2023-05-15T17:35:12.500Z"
   },
   {
    "duration": 4608,
    "start_time": "2023-05-15T17:35:20.523Z"
   },
   {
    "duration": 5,
    "start_time": "2023-05-15T17:36:06.269Z"
   },
   {
    "duration": 4995,
    "start_time": "2023-05-15T17:36:10.625Z"
   },
   {
    "duration": 4,
    "start_time": "2023-05-15T17:36:37.814Z"
   },
   {
    "duration": 1419,
    "start_time": "2023-05-15T17:36:41.081Z"
   },
   {
    "duration": 1448,
    "start_time": "2023-05-15T17:36:47.341Z"
   },
   {
    "duration": 1427,
    "start_time": "2023-05-15T17:36:51.264Z"
   },
   {
    "duration": 1137,
    "start_time": "2023-08-17T21:13:20.402Z"
   },
   {
    "duration": 947,
    "start_time": "2023-08-17T21:13:22.568Z"
   },
   {
    "duration": 4,
    "start_time": "2023-08-17T21:13:24.566Z"
   },
   {
    "duration": 60,
    "start_time": "2023-08-17T21:13:26.906Z"
   },
   {
    "duration": 55,
    "start_time": "2023-08-17T21:13:28.417Z"
   },
   {
    "duration": 65,
    "start_time": "2023-08-17T21:13:29.483Z"
   },
   {
    "duration": 4,
    "start_time": "2023-08-17T21:13:33.339Z"
   },
   {
    "duration": 442,
    "start_time": "2023-08-17T21:13:35.875Z"
   },
   {
    "duration": 19,
    "start_time": "2023-08-17T21:13:39.649Z"
   },
   {
    "duration": 3,
    "start_time": "2023-08-17T21:13:45.061Z"
   },
   {
    "duration": 2,
    "start_time": "2023-08-17T21:13:48.658Z"
   },
   {
    "duration": 3,
    "start_time": "2023-08-17T21:13:49.426Z"
   },
   {
    "duration": 3,
    "start_time": "2023-08-17T21:13:50.653Z"
   },
   {
    "duration": 96,
    "start_time": "2023-08-17T21:13:51.845Z"
   },
   {
    "duration": 5,
    "start_time": "2023-08-17T21:14:04.360Z"
   },
   {
    "duration": 14,
    "start_time": "2023-08-17T21:14:05.530Z"
   },
   {
    "duration": 5,
    "start_time": "2023-08-17T21:14:09.368Z"
   },
   {
    "duration": 4,
    "start_time": "2023-08-17T21:14:15.328Z"
   },
   {
    "duration": 6,
    "start_time": "2023-08-17T21:14:15.947Z"
   },
   {
    "duration": 18,
    "start_time": "2023-08-17T21:14:19.180Z"
   },
   {
    "duration": 19,
    "start_time": "2023-08-17T21:14:19.683Z"
   },
   {
    "duration": 19,
    "start_time": "2023-08-17T21:14:20.697Z"
   },
   {
    "duration": 53,
    "start_time": "2023-10-22T14:20:20.719Z"
   },
   {
    "duration": 1418,
    "start_time": "2023-10-22T14:20:29.886Z"
   },
   {
    "duration": 833,
    "start_time": "2023-10-22T14:20:33.235Z"
   },
   {
    "duration": 4,
    "start_time": "2023-10-22T14:20:37.003Z"
   },
   {
    "duration": 61,
    "start_time": "2023-10-22T14:20:37.684Z"
   },
   {
    "duration": 57,
    "start_time": "2023-10-22T14:20:38.338Z"
   },
   {
    "duration": 56,
    "start_time": "2023-10-22T14:20:39.148Z"
   },
   {
    "duration": 5,
    "start_time": "2023-10-22T14:20:43.802Z"
   },
   {
    "duration": 364,
    "start_time": "2023-10-22T14:20:45.901Z"
   },
   {
    "duration": 22,
    "start_time": "2023-10-22T14:20:48.092Z"
   },
   {
    "duration": 4,
    "start_time": "2023-10-22T14:20:52.782Z"
   },
   {
    "duration": 3,
    "start_time": "2023-10-22T14:20:59.310Z"
   },
   {
    "duration": 3,
    "start_time": "2023-10-22T14:21:09.678Z"
   },
   {
    "duration": 3,
    "start_time": "2023-10-22T14:21:11.662Z"
   },
   {
    "duration": 3,
    "start_time": "2023-10-22T14:21:17.517Z"
   },
   {
    "duration": 4,
    "start_time": "2023-10-22T14:21:23.661Z"
   },
   {
    "duration": 80,
    "start_time": "2023-10-22T14:21:27.416Z"
   },
   {
    "duration": 13,
    "start_time": "2023-10-22T14:21:50.369Z"
   },
   {
    "duration": 7,
    "start_time": "2023-10-22T14:22:44.012Z"
   },
   {
    "duration": 4,
    "start_time": "2023-10-22T14:22:48.373Z"
   },
   {
    "duration": 3,
    "start_time": "2023-10-22T14:22:54.305Z"
   },
   {
    "duration": 6,
    "start_time": "2023-10-22T14:22:55.058Z"
   },
   {
    "duration": 20,
    "start_time": "2023-10-22T14:22:58.718Z"
   },
   {
    "duration": 4,
    "start_time": "2023-10-22T16:44:59.263Z"
   },
   {
    "duration": 4,
    "start_time": "2023-10-22T16:45:06.852Z"
   },
   {
    "duration": 5,
    "start_time": "2023-10-22T16:45:08.493Z"
   },
   {
    "duration": 6,
    "start_time": "2023-10-22T16:45:10.489Z"
   },
   {
    "duration": 5,
    "start_time": "2023-10-22T16:45:13.475Z"
   },
   {
    "duration": 20,
    "start_time": "2023-10-22T16:45:26.430Z"
   },
   {
    "duration": 19,
    "start_time": "2023-10-22T16:45:44.097Z"
   },
   {
    "duration": 3,
    "start_time": "2023-10-22T16:46:23.352Z"
   },
   {
    "duration": 3,
    "start_time": "2023-10-22T16:46:32.713Z"
   },
   {
    "duration": 5,
    "start_time": "2023-10-22T16:46:33.463Z"
   },
   {
    "duration": 1404,
    "start_time": "2023-10-22T16:46:40.985Z"
   },
   {
    "duration": 1412,
    "start_time": "2023-10-22T16:46:42.439Z"
   },
   {
    "duration": 1471,
    "start_time": "2023-10-22T16:54:24.728Z"
   }
  ],
  "kernelspec": {
   "display_name": "Python 3 (ipykernel)",
   "language": "python",
   "name": "python3"
  },
  "language_info": {
   "codemirror_mode": {
    "name": "ipython",
    "version": 3
   },
   "file_extension": ".py",
   "mimetype": "text/x-python",
   "name": "python",
   "nbconvert_exporter": "python",
   "pygments_lexer": "ipython3",
   "version": "3.9.13"
  },
  "toc": {
   "base_numbering": 1,
   "nav_menu": {},
   "number_sections": true,
   "sideBar": true,
   "skip_h1_title": true,
   "title_cell": "Table of Contents",
   "title_sidebar": "Contents",
   "toc_cell": false,
   "toc_position": {},
   "toc_section_display": true,
   "toc_window_display": false
  }
 },
 "nbformat": 4,
 "nbformat_minor": 2
}
